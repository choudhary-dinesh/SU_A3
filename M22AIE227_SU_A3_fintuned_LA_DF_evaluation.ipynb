{
  "nbformat": 4,
  "nbformat_minor": 0,
  "metadata": {
    "colab": {
      "provenance": [],
      "collapsed_sections": [
        "rhIEz_puwm_z",
        "JvaTITDKmOWL",
        "IHI-6xjBno0i",
        "9ST4xhS62KRN",
        "dfIfKqHzXqw9",
        "Evij49M2qv5-"
      ]
    },
    "kernelspec": {
      "name": "python3",
      "display_name": "Python 3"
    },
    "language_info": {
      "name": "python"
    }
  },
  "cells": [
    {
      "cell_type": "markdown",
      "source": [
        "#### Git clone SSL_Anti-spoofing"
      ],
      "metadata": {
        "id": "rhIEz_puwm_z"
      }
    },
    {
      "cell_type": "code",
      "source": [
        "from google.colab import drive\n",
        "drive.mount('/content/drive')"
      ],
      "metadata": {
        "colab": {
          "base_uri": "https://localhost:8080/"
        },
        "id": "LoNeJeRW7cIN",
        "outputId": "4f9313bb-23e0-4051-e299-480ed840b49a"
      },
      "execution_count": 1,
      "outputs": [
        {
          "output_type": "stream",
          "name": "stdout",
          "text": [
            "Mounted at /content/drive\n"
          ]
        }
      ]
    },
    {
      "cell_type": "code",
      "execution_count": 2,
      "metadata": {
        "colab": {
          "base_uri": "https://localhost:8080/"
        },
        "id": "1HDc7epfsLU_",
        "outputId": "789db09f-721e-4b3b-a0ad-89ba6b21ef99"
      },
      "outputs": [
        {
          "output_type": "stream",
          "name": "stdout",
          "text": [
            "Cloning into 'SSL_Anti-spoofing'...\n",
            "remote: Enumerating objects: 1579, done.\u001b[K\n",
            "remote: Counting objects: 100% (90/90), done.\u001b[K\n",
            "remote: Compressing objects: 100% (42/42), done.\u001b[K\n",
            "remote: Total 1579 (delta 52), reused 82 (delta 48), pack-reused 1489\u001b[K\n",
            "Receiving objects: 100% (1579/1579), 30.57 MiB | 18.81 MiB/s, done.\n",
            "Resolving deltas: 100% (293/293), done.\n"
          ]
        }
      ],
      "source": [
        "!git clone https://github.com/TakHemlata/SSL_Anti-spoofing.git"
      ]
    },
    {
      "cell_type": "markdown",
      "source": [
        "#### Install requirements"
      ],
      "metadata": {
        "id": "JvaTITDKmOWL"
      }
    },
    {
      "cell_type": "code",
      "source": [
        "# !pip install torch==1.8.1+cu111 -f https://download.pytorch.org/whl/torch_stable.html   --not feasible hence installing nearesr version 1.11\n",
        "!pip install torch==1.11.0"
      ],
      "metadata": {
        "colab": {
          "base_uri": "https://localhost:8080/"
        },
        "id": "chrYlYljur5w",
        "outputId": "45e57ba7-8ada-477e-a8d8-c7bc53c763d5"
      },
      "execution_count": 3,
      "outputs": [
        {
          "output_type": "stream",
          "name": "stdout",
          "text": [
            "Collecting torch==1.11.0\n",
            "  Downloading torch-1.11.0-cp310-cp310-manylinux1_x86_64.whl (750.6 MB)\n",
            "\u001b[2K     \u001b[90m━━━━━━━━━━━━━━━━━━━━━━━━━━━━━━━━━━━━━━━━\u001b[0m \u001b[32m750.6/750.6 MB\u001b[0m \u001b[31m2.1 MB/s\u001b[0m eta \u001b[36m0:00:00\u001b[0m\n",
            "\u001b[?25hRequirement already satisfied: typing-extensions in /usr/local/lib/python3.10/dist-packages (from torch==1.11.0) (4.11.0)\n",
            "Installing collected packages: torch\n",
            "  Attempting uninstall: torch\n",
            "    Found existing installation: torch 2.2.1+cu121\n",
            "    Uninstalling torch-2.2.1+cu121:\n",
            "      Successfully uninstalled torch-2.2.1+cu121\n",
            "\u001b[31mERROR: pip's dependency resolver does not currently take into account all the packages that are installed. This behaviour is the source of the following dependency conflicts.\n",
            "torchaudio 2.2.1+cu121 requires torch==2.2.1, but you have torch 1.11.0 which is incompatible.\n",
            "torchdata 0.7.1 requires torch>=2, but you have torch 1.11.0 which is incompatible.\n",
            "torchtext 0.17.1 requires torch==2.2.1, but you have torch 1.11.0 which is incompatible.\n",
            "torchvision 0.17.1+cu121 requires torch==2.2.1, but you have torch 1.11.0 which is incompatible.\u001b[0m\u001b[31m\n",
            "\u001b[0mSuccessfully installed torch-1.11.0\n"
          ]
        }
      ]
    },
    {
      "cell_type": "code",
      "source": [
        "# !pip install torchvision==0.9.1+cu111 -f https://download.pytorch.org/whl/torch_stable.html  --not feasible hence installing nearesr version 0.12\n",
        "!pip install torchvision==0.12.0"
      ],
      "metadata": {
        "colab": {
          "base_uri": "https://localhost:8080/"
        },
        "id": "5z4sjBlH5FTc",
        "outputId": "e1c70b23-f2c1-4a59-d6f3-e59487a8f3af"
      },
      "execution_count": 4,
      "outputs": [
        {
          "output_type": "stream",
          "name": "stdout",
          "text": [
            "Collecting torchvision==0.12.0\n",
            "  Downloading torchvision-0.12.0-cp310-cp310-manylinux1_x86_64.whl (21.0 MB)\n",
            "\u001b[2K     \u001b[90m━━━━━━━━━━━━━━━━━━━━━━━━━━━━━━━━━━━━━━━━\u001b[0m \u001b[32m21.0/21.0 MB\u001b[0m \u001b[31m41.6 MB/s\u001b[0m eta \u001b[36m0:00:00\u001b[0m\n",
            "\u001b[?25hRequirement already satisfied: typing-extensions in /usr/local/lib/python3.10/dist-packages (from torchvision==0.12.0) (4.11.0)\n",
            "Requirement already satisfied: numpy in /usr/local/lib/python3.10/dist-packages (from torchvision==0.12.0) (1.25.2)\n",
            "Requirement already satisfied: requests in /usr/local/lib/python3.10/dist-packages (from torchvision==0.12.0) (2.31.0)\n",
            "Requirement already satisfied: torch==1.11.0 in /usr/local/lib/python3.10/dist-packages (from torchvision==0.12.0) (1.11.0)\n",
            "Requirement already satisfied: pillow!=8.3.*,>=5.3.0 in /usr/local/lib/python3.10/dist-packages (from torchvision==0.12.0) (9.4.0)\n",
            "Requirement already satisfied: charset-normalizer<4,>=2 in /usr/local/lib/python3.10/dist-packages (from requests->torchvision==0.12.0) (3.3.2)\n",
            "Requirement already satisfied: idna<4,>=2.5 in /usr/local/lib/python3.10/dist-packages (from requests->torchvision==0.12.0) (3.7)\n",
            "Requirement already satisfied: urllib3<3,>=1.21.1 in /usr/local/lib/python3.10/dist-packages (from requests->torchvision==0.12.0) (2.0.7)\n",
            "Requirement already satisfied: certifi>=2017.4.17 in /usr/local/lib/python3.10/dist-packages (from requests->torchvision==0.12.0) (2024.2.2)\n",
            "Installing collected packages: torchvision\n",
            "  Attempting uninstall: torchvision\n",
            "    Found existing installation: torchvision 0.17.1+cu121\n",
            "    Uninstalling torchvision-0.17.1+cu121:\n",
            "      Successfully uninstalled torchvision-0.17.1+cu121\n",
            "Successfully installed torchvision-0.12.0\n"
          ]
        }
      ]
    },
    {
      "cell_type": "code",
      "source": [
        "# !pip install torchaudio==0.8.1 -f https://download.pytorch.org/whl/torch_stable.html   --not feasible hence installing nearesr version 0.11\n",
        "!pip install torchaudio==0.11.0"
      ],
      "metadata": {
        "colab": {
          "base_uri": "https://localhost:8080/"
        },
        "id": "9pkIUVUE5Q99",
        "outputId": "4a710990-ea07-4a59-a9f3-cb3c8bd8a164"
      },
      "execution_count": 5,
      "outputs": [
        {
          "output_type": "stream",
          "name": "stdout",
          "text": [
            "Collecting torchaudio==0.11.0\n",
            "  Downloading torchaudio-0.11.0-cp310-cp310-manylinux1_x86_64.whl (2.9 MB)\n",
            "\u001b[2K     \u001b[90m━━━━━━━━━━━━━━━━━━━━━━━━━━━━━━━━━━━━━━━━\u001b[0m \u001b[32m2.9/2.9 MB\u001b[0m \u001b[31m29.8 MB/s\u001b[0m eta \u001b[36m0:00:00\u001b[0m\n",
            "\u001b[?25hRequirement already satisfied: torch==1.11.0 in /usr/local/lib/python3.10/dist-packages (from torchaudio==0.11.0) (1.11.0)\n",
            "Requirement already satisfied: typing-extensions in /usr/local/lib/python3.10/dist-packages (from torch==1.11.0->torchaudio==0.11.0) (4.11.0)\n",
            "Installing collected packages: torchaudio\n",
            "  Attempting uninstall: torchaudio\n",
            "    Found existing installation: torchaudio 2.2.1+cu121\n",
            "    Uninstalling torchaudio-2.2.1+cu121:\n",
            "      Successfully uninstalled torchaudio-2.2.1+cu121\n",
            "Successfully installed torchaudio-0.11.0\n"
          ]
        }
      ]
    },
    {
      "cell_type": "code",
      "source": [
        "#installing fairseq\n",
        "%cd /content/SSL_Anti-spoofing/fairseq-a54021305d6b3c4c5959ac9395135f63202db8f1\n",
        "!pip install --editable ./"
      ],
      "metadata": {
        "colab": {
          "base_uri": "https://localhost:8080/"
        },
        "id": "1BsmaSpRvczv",
        "outputId": "f90b2f55-fa7d-4dd8-a2d2-0491a3058573"
      },
      "execution_count": 6,
      "outputs": [
        {
          "output_type": "stream",
          "name": "stdout",
          "text": [
            "/content/SSL_Anti-spoofing/fairseq-a54021305d6b3c4c5959ac9395135f63202db8f1\n",
            "Obtaining file:///content/SSL_Anti-spoofing/fairseq-a54021305d6b3c4c5959ac9395135f63202db8f1\n",
            "  Installing build dependencies ... \u001b[?25l\u001b[?25hdone\n",
            "  Checking if build backend supports build_editable ... \u001b[?25l\u001b[?25hdone\n",
            "  Getting requirements to build editable ... \u001b[?25l\u001b[?25hdone\n",
            "  Installing backend dependencies ... \u001b[?25l\u001b[?25hdone\n",
            "  Preparing editable metadata (pyproject.toml) ... \u001b[?25l\u001b[?25hdone\n",
            "Requirement already satisfied: cffi in /usr/local/lib/python3.10/dist-packages (from fairseq==1.0.0a0+4acaa61) (1.16.0)\n",
            "Requirement already satisfied: cython in /usr/local/lib/python3.10/dist-packages (from fairseq==1.0.0a0+4acaa61) (3.0.10)\n",
            "Collecting hydra-core<1.1,>=1.0.7 (from fairseq==1.0.0a0+4acaa61)\n",
            "  Downloading hydra_core-1.0.7-py3-none-any.whl (123 kB)\n",
            "\u001b[2K     \u001b[90m━━━━━━━━━━━━━━━━━━━━━━━━━━━━━━━━━━━━━━━━\u001b[0m \u001b[32m123.8/123.8 kB\u001b[0m \u001b[31m2.2 MB/s\u001b[0m eta \u001b[36m0:00:00\u001b[0m\n",
            "\u001b[?25hCollecting omegaconf<2.1 (from fairseq==1.0.0a0+4acaa61)\n",
            "  Downloading omegaconf-2.0.6-py3-none-any.whl (36 kB)\n",
            "Requirement already satisfied: regex in /usr/local/lib/python3.10/dist-packages (from fairseq==1.0.0a0+4acaa61) (2023.12.25)\n",
            "Collecting sacrebleu>=1.4.12 (from fairseq==1.0.0a0+4acaa61)\n",
            "  Downloading sacrebleu-2.4.2-py3-none-any.whl (106 kB)\n",
            "\u001b[2K     \u001b[90m━━━━━━━━━━━━━━━━━━━━━━━━━━━━━━━━━━━━━━━━\u001b[0m \u001b[32m106.7/106.7 kB\u001b[0m \u001b[31m10.5 MB/s\u001b[0m eta \u001b[36m0:00:00\u001b[0m\n",
            "\u001b[?25hRequirement already satisfied: torch in /usr/local/lib/python3.10/dist-packages (from fairseq==1.0.0a0+4acaa61) (1.11.0)\n",
            "Requirement already satisfied: tqdm in /usr/local/lib/python3.10/dist-packages (from fairseq==1.0.0a0+4acaa61) (4.66.2)\n",
            "Collecting bitarray (from fairseq==1.0.0a0+4acaa61)\n",
            "  Downloading bitarray-2.9.2-cp310-cp310-manylinux_2_17_x86_64.manylinux2014_x86_64.whl (288 kB)\n",
            "\u001b[2K     \u001b[90m━━━━━━━━━━━━━━━━━━━━━━━━━━━━━━━━━━━━━━━━\u001b[0m \u001b[32m288.3/288.3 kB\u001b[0m \u001b[31m22.0 MB/s\u001b[0m eta \u001b[36m0:00:00\u001b[0m\n",
            "\u001b[?25hRequirement already satisfied: torchaudio>=0.8.0 in /usr/local/lib/python3.10/dist-packages (from fairseq==1.0.0a0+4acaa61) (0.11.0)\n",
            "Requirement already satisfied: numpy in /usr/local/lib/python3.10/dist-packages (from fairseq==1.0.0a0+4acaa61) (1.25.2)\n",
            "Collecting antlr4-python3-runtime==4.8 (from hydra-core<1.1,>=1.0.7->fairseq==1.0.0a0+4acaa61)\n",
            "  Downloading antlr4-python3-runtime-4.8.tar.gz (112 kB)\n",
            "\u001b[2K     \u001b[90m━━━━━━━━━━━━━━━━━━━━━━━━━━━━━━━━━━━━━━━━\u001b[0m \u001b[32m112.4/112.4 kB\u001b[0m \u001b[31m1.9 MB/s\u001b[0m eta \u001b[36m0:00:00\u001b[0m\n",
            "\u001b[?25h  Preparing metadata (setup.py) ... \u001b[?25l\u001b[?25hdone\n",
            "Requirement already satisfied: PyYAML>=5.1.* in /usr/local/lib/python3.10/dist-packages (from omegaconf<2.1->fairseq==1.0.0a0+4acaa61) (6.0.1)\n",
            "Requirement already satisfied: typing-extensions in /usr/local/lib/python3.10/dist-packages (from omegaconf<2.1->fairseq==1.0.0a0+4acaa61) (4.11.0)\n",
            "Collecting portalocker (from sacrebleu>=1.4.12->fairseq==1.0.0a0+4acaa61)\n",
            "  Downloading portalocker-2.8.2-py3-none-any.whl (17 kB)\n",
            "Requirement already satisfied: tabulate>=0.8.9 in /usr/local/lib/python3.10/dist-packages (from sacrebleu>=1.4.12->fairseq==1.0.0a0+4acaa61) (0.9.0)\n",
            "Collecting colorama (from sacrebleu>=1.4.12->fairseq==1.0.0a0+4acaa61)\n",
            "  Downloading colorama-0.4.6-py2.py3-none-any.whl (25 kB)\n",
            "Requirement already satisfied: lxml in /usr/local/lib/python3.10/dist-packages (from sacrebleu>=1.4.12->fairseq==1.0.0a0+4acaa61) (4.9.4)\n",
            "Requirement already satisfied: pycparser in /usr/local/lib/python3.10/dist-packages (from cffi->fairseq==1.0.0a0+4acaa61) (2.22)\n",
            "Building wheels for collected packages: fairseq, antlr4-python3-runtime\n",
            "  Building editable for fairseq (pyproject.toml) ... \u001b[?25l\u001b[?25hdone\n",
            "  Created wheel for fairseq: filename=fairseq-1.0.0a0+4acaa61-0.editable-cp310-cp310-linux_x86_64.whl size=9253 sha256=9b1924a871799bac97f5134b372bb8603504346f9b5eaea795f0496a7d14b55b\n",
            "  Stored in directory: /tmp/pip-ephem-wheel-cache-frdfqd31/wheels/7e/e7/f3/b9dc85bed2878480a562707319b545b2d7bbf958307b8eddc5\n",
            "  Building wheel for antlr4-python3-runtime (setup.py) ... \u001b[?25l\u001b[?25hdone\n",
            "  Created wheel for antlr4-python3-runtime: filename=antlr4_python3_runtime-4.8-py3-none-any.whl size=141211 sha256=736dc32fae40d69646098c6105a537f2ebee865dc3e73ae7a7f29f7ce4691eae\n",
            "  Stored in directory: /root/.cache/pip/wheels/a7/20/bd/e1477d664f22d99989fd28ee1a43d6633dddb5cb9e801350d5\n",
            "Successfully built fairseq antlr4-python3-runtime\n",
            "Installing collected packages: bitarray, antlr4-python3-runtime, portalocker, omegaconf, colorama, sacrebleu, hydra-core, fairseq\n",
            "Successfully installed antlr4-python3-runtime-4.8 bitarray-2.9.2 colorama-0.4.6 fairseq-1.0.0a0+4acaa61 hydra-core-1.0.7 omegaconf-2.0.6 portalocker-2.8.2 sacrebleu-2.4.2\n"
          ]
        }
      ]
    },
    {
      "cell_type": "code",
      "source": [
        "#installing requirements\n",
        "%cd /content/SSL_Anti-spoofing/\n",
        "!pip install -r requirements.txt"
      ],
      "metadata": {
        "colab": {
          "base_uri": "https://localhost:8080/"
        },
        "id": "iTTfz25JxFe-",
        "outputId": "f1255d3c-9025-4573-abde-16b027f7f6b7"
      },
      "execution_count": 7,
      "outputs": [
        {
          "output_type": "stream",
          "name": "stdout",
          "text": [
            "/content/SSL_Anti-spoofing\n",
            "Collecting librosa==0.9.1 (from -r requirements.txt (line 2))\n",
            "  Downloading librosa-0.9.1-py3-none-any.whl (213 kB)\n",
            "\u001b[2K     \u001b[90m━━━━━━━━━━━━━━━━━━━━━━━━━━━━━━━━━━━━━━━━\u001b[0m \u001b[32m213.1/213.1 kB\u001b[0m \u001b[31m4.6 MB/s\u001b[0m eta \u001b[36m0:00:00\u001b[0m\n",
            "\u001b[?25hCollecting tensorboardX==2.5 (from -r requirements.txt (line 3))\n",
            "  Downloading tensorboardX-2.5-py2.py3-none-any.whl (125 kB)\n",
            "\u001b[2K     \u001b[90m━━━━━━━━━━━━━━━━━━━━━━━━━━━━━━━━━━━━━━━━\u001b[0m \u001b[32m125.3/125.3 kB\u001b[0m \u001b[31m12.8 MB/s\u001b[0m eta \u001b[36m0:00:00\u001b[0m\n",
            "\u001b[?25hRequirement already satisfied: audioread>=2.1.5 in /usr/local/lib/python3.10/dist-packages (from librosa==0.9.1->-r requirements.txt (line 2)) (3.0.1)\n",
            "Requirement already satisfied: numpy>=1.17.0 in /usr/local/lib/python3.10/dist-packages (from librosa==0.9.1->-r requirements.txt (line 2)) (1.25.2)\n",
            "Requirement already satisfied: scipy>=1.2.0 in /usr/local/lib/python3.10/dist-packages (from librosa==0.9.1->-r requirements.txt (line 2)) (1.11.4)\n",
            "Requirement already satisfied: scikit-learn>=0.19.1 in /usr/local/lib/python3.10/dist-packages (from librosa==0.9.1->-r requirements.txt (line 2)) (1.2.2)\n",
            "Requirement already satisfied: joblib>=0.14 in /usr/local/lib/python3.10/dist-packages (from librosa==0.9.1->-r requirements.txt (line 2)) (1.4.0)\n",
            "Requirement already satisfied: decorator>=4.0.10 in /usr/local/lib/python3.10/dist-packages (from librosa==0.9.1->-r requirements.txt (line 2)) (4.4.2)\n",
            "Collecting resampy>=0.2.2 (from librosa==0.9.1->-r requirements.txt (line 2))\n",
            "  Downloading resampy-0.4.3-py3-none-any.whl (3.1 MB)\n",
            "\u001b[2K     \u001b[90m━━━━━━━━━━━━━━━━━━━━━━━━━━━━━━━━━━━━━━━━\u001b[0m \u001b[32m3.1/3.1 MB\u001b[0m \u001b[31m61.0 MB/s\u001b[0m eta \u001b[36m0:00:00\u001b[0m\n",
            "\u001b[?25hRequirement already satisfied: numba>=0.45.1 in /usr/local/lib/python3.10/dist-packages (from librosa==0.9.1->-r requirements.txt (line 2)) (0.58.1)\n",
            "Requirement already satisfied: soundfile>=0.10.2 in /usr/local/lib/python3.10/dist-packages (from librosa==0.9.1->-r requirements.txt (line 2)) (0.12.1)\n",
            "Requirement already satisfied: pooch>=1.0 in /usr/local/lib/python3.10/dist-packages (from librosa==0.9.1->-r requirements.txt (line 2)) (1.8.1)\n",
            "Requirement already satisfied: packaging>=20.0 in /usr/local/lib/python3.10/dist-packages (from librosa==0.9.1->-r requirements.txt (line 2)) (24.0)\n",
            "Requirement already satisfied: six in /usr/local/lib/python3.10/dist-packages (from tensorboardX==2.5->-r requirements.txt (line 3)) (1.16.0)\n",
            "Requirement already satisfied: protobuf>=3.8.0 in /usr/local/lib/python3.10/dist-packages (from tensorboardX==2.5->-r requirements.txt (line 3)) (3.20.3)\n",
            "Requirement already satisfied: llvmlite<0.42,>=0.41.0dev0 in /usr/local/lib/python3.10/dist-packages (from numba>=0.45.1->librosa==0.9.1->-r requirements.txt (line 2)) (0.41.1)\n",
            "Requirement already satisfied: platformdirs>=2.5.0 in /usr/local/lib/python3.10/dist-packages (from pooch>=1.0->librosa==0.9.1->-r requirements.txt (line 2)) (4.2.1)\n",
            "Requirement already satisfied: requests>=2.19.0 in /usr/local/lib/python3.10/dist-packages (from pooch>=1.0->librosa==0.9.1->-r requirements.txt (line 2)) (2.31.0)\n",
            "Requirement already satisfied: threadpoolctl>=2.0.0 in /usr/local/lib/python3.10/dist-packages (from scikit-learn>=0.19.1->librosa==0.9.1->-r requirements.txt (line 2)) (3.4.0)\n",
            "Requirement already satisfied: cffi>=1.0 in /usr/local/lib/python3.10/dist-packages (from soundfile>=0.10.2->librosa==0.9.1->-r requirements.txt (line 2)) (1.16.0)\n",
            "Requirement already satisfied: pycparser in /usr/local/lib/python3.10/dist-packages (from cffi>=1.0->soundfile>=0.10.2->librosa==0.9.1->-r requirements.txt (line 2)) (2.22)\n",
            "Requirement already satisfied: charset-normalizer<4,>=2 in /usr/local/lib/python3.10/dist-packages (from requests>=2.19.0->pooch>=1.0->librosa==0.9.1->-r requirements.txt (line 2)) (3.3.2)\n",
            "Requirement already satisfied: idna<4,>=2.5 in /usr/local/lib/python3.10/dist-packages (from requests>=2.19.0->pooch>=1.0->librosa==0.9.1->-r requirements.txt (line 2)) (3.7)\n",
            "Requirement already satisfied: urllib3<3,>=1.21.1 in /usr/local/lib/python3.10/dist-packages (from requests>=2.19.0->pooch>=1.0->librosa==0.9.1->-r requirements.txt (line 2)) (2.0.7)\n",
            "Requirement already satisfied: certifi>=2017.4.17 in /usr/local/lib/python3.10/dist-packages (from requests>=2.19.0->pooch>=1.0->librosa==0.9.1->-r requirements.txt (line 2)) (2024.2.2)\n",
            "Installing collected packages: tensorboardX, resampy, librosa\n",
            "  Attempting uninstall: librosa\n",
            "    Found existing installation: librosa 0.10.1\n",
            "    Uninstalling librosa-0.10.1:\n",
            "      Successfully uninstalled librosa-0.10.1\n",
            "Successfully installed librosa-0.9.1 resampy-0.4.3 tensorboardX-2.5\n"
          ]
        }
      ]
    },
    {
      "cell_type": "code",
      "source": [
        "#specific numpy version required for fairseq\n",
        "!pip install numpy==1.22.4"
      ],
      "metadata": {
        "colab": {
          "base_uri": "https://localhost:8080/",
          "height": 0
        },
        "id": "EoorM_Cix5ys",
        "outputId": "6932bdfd-08bc-45d1-ce23-ea83e856fe5f"
      },
      "execution_count": 8,
      "outputs": [
        {
          "output_type": "stream",
          "name": "stdout",
          "text": [
            "Collecting numpy==1.22.4\n",
            "  Downloading numpy-1.22.4-cp310-cp310-manylinux_2_17_x86_64.manylinux2014_x86_64.whl (16.8 MB)\n",
            "\u001b[2K     \u001b[90m━━━━━━━━━━━━━━━━━━━━━━━━━━━━━━━━━━━━━━━━\u001b[0m \u001b[32m16.8/16.8 MB\u001b[0m \u001b[31m54.5 MB/s\u001b[0m eta \u001b[36m0:00:00\u001b[0m\n",
            "\u001b[?25hInstalling collected packages: numpy\n",
            "  Attempting uninstall: numpy\n",
            "    Found existing installation: numpy 1.25.2\n",
            "    Uninstalling numpy-1.25.2:\n",
            "      Successfully uninstalled numpy-1.25.2\n",
            "\u001b[31mERROR: pip's dependency resolver does not currently take into account all the packages that are installed. This behaviour is the source of the following dependency conflicts.\n",
            "chex 0.1.86 requires numpy>=1.24.1, but you have numpy 1.22.4 which is incompatible.\n",
            "pandas-stubs 2.0.3.230814 requires numpy>=1.25.0; python_version >= \"3.9\", but you have numpy 1.22.4 which is incompatible.\n",
            "plotnine 0.12.4 requires numpy>=1.23.0, but you have numpy 1.22.4 which is incompatible.\n",
            "tensorflow 2.15.0 requires numpy<2.0.0,>=1.23.5, but you have numpy 1.22.4 which is incompatible.\n",
            "torchtext 0.17.1 requires torch==2.2.1, but you have torch 1.11.0 which is incompatible.\u001b[0m\u001b[31m\n",
            "\u001b[0mSuccessfully installed numpy-1.22.4\n"
          ]
        },
        {
          "output_type": "display_data",
          "data": {
            "application/vnd.colab-display-data+json": {
              "pip_warning": {
                "packages": [
                  "numpy"
                ]
              },
              "id": "771c70b0439a4d50bdf8b1f1a9969c0b"
            }
          },
          "metadata": {}
        }
      ]
    },
    {
      "cell_type": "markdown",
      "source": [
        "#### Imports"
      ],
      "metadata": {
        "id": "IHI-6xjBno0i"
      }
    },
    {
      "cell_type": "code",
      "source": [
        "import glob\n",
        "import os\n",
        "import pandas as pd\n",
        "import numpy as np\n",
        "\n",
        "import torch\n",
        "import torch.nn as nn\n",
        "from torch.utils.data import Dataset,DataLoader\n",
        "from torch import Tensor\n",
        "import librosa\n",
        "\n",
        "from sklearn.metrics import det_curve,RocCurveDisplay,auc,roc_curve\n",
        "import matplotlib.pyplot as plt"
      ],
      "metadata": {
        "id": "LXgtVQpUnq70"
      },
      "execution_count": 1,
      "outputs": []
    },
    {
      "cell_type": "markdown",
      "source": [
        "#### Custom Dataset (Dataset_Speech_Assignment)"
      ],
      "metadata": {
        "id": "9ST4xhS62KRN"
      }
    },
    {
      "cell_type": "code",
      "source": [
        "#make new dir & unzip dataset into it\n",
        "!mkdir /content/Dataset_Speech_Assignment\n",
        "!unzip '/content/drive/MyDrive/Dataset_Speech_Assignment.zip' -d /content/Dataset_Speech_Assignment/"
      ],
      "metadata": {
        "colab": {
          "base_uri": "https://localhost:8080/"
        },
        "outputId": "ad07b199-a374-413d-d337-169264611315",
        "id": "vfvfUxj-2KRO"
      },
      "execution_count": 2,
      "outputs": [
        {
          "output_type": "stream",
          "name": "stdout",
          "text": [
            "Archive:  /content/drive/MyDrive/Dataset_Speech_Assignment.zip\n",
            "  inflating: /content/Dataset_Speech_Assignment/Fake/277effc5a338f5ed0bce01c5f2a41424.mp3  \n",
            "  inflating: /content/Dataset_Speech_Assignment/Fake/3ae86dc151041de1e2bdbf8de03f42b3.mp3  \n",
            "  inflating: /content/Dataset_Speech_Assignment/Fake/485a56b665c97e535194fc3341c610f5.mp3  \n",
            "  inflating: /content/Dataset_Speech_Assignment/Fake/4afd90843b9214d26c3f2f7c695a6a1f.mp3  \n",
            "  inflating: /content/Dataset_Speech_Assignment/Fake/5b96390c6757ec91e10a23f00abddd6a.mp3  \n",
            "  inflating: /content/Dataset_Speech_Assignment/Fake/5cccd90bcdcedd5ad9799700c2d5f6fa.mp3  \n",
            "  inflating: /content/Dataset_Speech_Assignment/Fake/6b5b11163b1f6f32dbeba949eaa3b3e9.mp3  \n",
            "  inflating: /content/Dataset_Speech_Assignment/Fake/97372c76c357858eb984a5a41230f566.mp3  \n",
            "  inflating: /content/Dataset_Speech_Assignment/Fake/98ac13b3b78401cd97e498dff9fc181a.mp3  \n",
            "  inflating: /content/Dataset_Speech_Assignment/Fake/9f8c166693060e795c6dde3568aaa65c.mp3  \n",
            "  inflating: /content/Dataset_Speech_Assignment/Fake/aa1d26cef0999d7df60121308a3ea289.mp3  \n",
            "  inflating: /content/Dataset_Speech_Assignment/Fake/a-deepfake-singularity (1).wav  \n",
            "  inflating: /content/Dataset_Speech_Assignment/Fake/Anthony+US.wav  \n",
            "  inflating: /content/Dataset_Speech_Assignment/Fake/Arthur+UK.wav  \n",
            "  inflating: /content/Dataset_Speech_Assignment/Fake/ayla_en.wav  \n",
            "  inflating: /content/Dataset_Speech_Assignment/Fake/ayla_fr.wav  \n",
            "  inflating: /content/Dataset_Speech_Assignment/Fake/ayla_ja.wav  \n",
            "  inflating: /content/Dataset_Speech_Assignment/Fake/b12e993b5ed83e24eb76f1c3412dc5ae.mp3  \n",
            "  inflating: /content/Dataset_Speech_Assignment/Fake/b668b1099147702fa94922327695e7c1.mp3  \n",
            "  inflating: /content/Dataset_Speech_Assignment/Fake/c12ca32fca735a27b8b3fbac0fc93349.mp3  \n",
            "  inflating: /content/Dataset_Speech_Assignment/Fake/carla_de.wav  \n",
            "  inflating: /content/Dataset_Speech_Assignment/Fake/carla_en.wav  \n",
            "  inflating: /content/Dataset_Speech_Assignment/Fake/carla_pt.wav  \n",
            "  inflating: /content/Dataset_Speech_Assignment/Fake/Character+Voices.mp3  \n",
            "  inflating: /content/Dataset_Speech_Assignment/Fake/Children+Voices.mp3  \n",
            "  inflating: /content/Dataset_Speech_Assignment/Fake/Conversational+Voices.mp3  \n",
            "  inflating: /content/Dataset_Speech_Assignment/Fake/dba46c933622273eace54e6c071a6216.mp3  \n",
            "  inflating: /content/Dataset_Speech_Assignment/Fake/download (1).wav  \n",
            "  inflating: /content/Dataset_Speech_Assignment/Fake/download (2).wav  \n",
            "  inflating: /content/Dataset_Speech_Assignment/Fake/download (3).wav  \n",
            "  inflating: /content/Dataset_Speech_Assignment/Fake/download (5).wav  \n",
            "  inflating: /content/Dataset_Speech_Assignment/Fake/download (6).wav  \n",
            "  inflating: /content/Dataset_Speech_Assignment/Fake/download (7).wav  \n",
            "  inflating: /content/Dataset_Speech_Assignment/Fake/download.wav  \n",
            "  inflating: /content/Dataset_Speech_Assignment/Fake/Dwayne-Johnson-sample.wav  \n",
            "  inflating: /content/Dataset_Speech_Assignment/Fake/e977ed9e7fc683507d2213be20d322da.mp3  \n",
            "  inflating: /content/Dataset_Speech_Assignment/Fake/Elon-Sample.wav  \n",
            "  inflating: /content/Dataset_Speech_Assignment/Fake/Emotions.mp3  \n",
            "  inflating: /content/Dataset_Speech_Assignment/Fake/en-US-DavisNeural.mp3  \n",
            "  inflating: /content/Dataset_Speech_Assignment/Fake/en-US-JaneNeural.mp3  \n",
            "  inflating: /content/Dataset_Speech_Assignment/Fake/en-US-JasonNeural.mp3  \n",
            "  inflating: /content/Dataset_Speech_Assignment/Fake/en-US-NancyNeural.mp3  \n",
            "  inflating: /content/Dataset_Speech_Assignment/Fake/en-US-Neural2-A.wav  \n",
            "  inflating: /content/Dataset_Speech_Assignment/Fake/en-US-Standard-A.wav  \n",
            "  inflating: /content/Dataset_Speech_Assignment/Fake/en-US-Standard-F.wav  \n",
            "  inflating: /content/Dataset_Speech_Assignment/Fake/en-US-Standard-G.wav  \n",
            "  inflating: /content/Dataset_Speech_Assignment/Fake/en-US-Standard-H.wav  \n",
            "  inflating: /content/Dataset_Speech_Assignment/Fake/en-US-Standard-I.wav  \n",
            "  inflating: /content/Dataset_Speech_Assignment/Fake/en-US-Standard-J.wav  \n",
            "  inflating: /content/Dataset_Speech_Assignment/Fake/en-US-TonyNeural.mp3  \n",
            "  inflating: /content/Dataset_Speech_Assignment/Fake/en-US-Wavenet-G.wav  \n",
            "  inflating: /content/Dataset_Speech_Assignment/Fake/en-US-Wavenet-H.wav  \n",
            "  inflating: /content/Dataset_Speech_Assignment/Fake/en-US-Wavenet-I.wav  \n",
            "  inflating: /content/Dataset_Speech_Assignment/Fake/en-US-Wavenet-J.wav  \n",
            "  inflating: /content/Dataset_Speech_Assignment/Fake/Explainer+Voices.mp3  \n",
            "  inflating: /content/Dataset_Speech_Assignment/Fake/f01baf194fdea0329587252161bf8d35.mp3  \n",
            "  inflating: /content/Dataset_Speech_Assignment/Fake/f18d5ed817e7fc015455cbb8c2354985.mp3  \n",
            "  inflating: /content/Dataset_Speech_Assignment/Fake/f2a1a3553464a18a1740cfc57c8ac867.mp3  \n",
            "  inflating: /content/Dataset_Speech_Assignment/Fake/fa190735c8207c4af43cfc2c1e2a4b9b.mp3  \n",
            "  inflating: /content/Dataset_Speech_Assignment/Fake/Fake_AIVoiceActor_multi_lingual.mp3  \n",
            "  inflating: /content/Dataset_Speech_Assignment/Fake/Fake_Charlotte.mp3  \n",
            "  inflating: /content/Dataset_Speech_Assignment/Fake/Fake_Daniel.mp3  \n",
            "  inflating: /content/Dataset_Speech_Assignment/Fake/Fake_Dave.mp3  \n",
            "  inflating: /content/Dataset_Speech_Assignment/Fake/fake_elonmask.wav  \n",
            "  inflating: /content/Dataset_Speech_Assignment/Fake/fake_femalevoicesample.wav  \n",
            "  inflating: /content/Dataset_Speech_Assignment/Fake/Fake_Fin.mp3  \n",
            "  inflating: /content/Dataset_Speech_Assignment/Fake/Fake_GlindaAIClonedVoice.mp3  \n",
            "  inflating: /content/Dataset_Speech_Assignment/Fake/Fake_Grace.mp3  \n",
            "  inflating: /content/Dataset_Speech_Assignment/Fake/Fake_JamesAIClonedVoice.mp3  \n",
            "  inflating: /content/Dataset_Speech_Assignment/Fake/fake_mrbeast.wav  \n",
            "  inflating: /content/Dataset_Speech_Assignment/Fake/fake_obama.wav  \n",
            "  inflating: /content/Dataset_Speech_Assignment/Fake/Fake_rock.wav  \n",
            "  inflating: /content/Dataset_Speech_Assignment/Fake/fake_snoopdog.wav  \n",
            "  inflating: /content/Dataset_Speech_Assignment/Fake/Fake_TiffanyAIClonedVoice.mp3  \n",
            "  inflating: /content/Dataset_Speech_Assignment/Fake/fake1_1.wav  \n",
            "  inflating: /content/Dataset_Speech_Assignment/Fake/Frankie+UK.wav  \n",
            "  inflating: /content/Dataset_Speech_Assignment/Fake/Frederick+UK.wav  \n",
            "  inflating: /content/Dataset_Speech_Assignment/Fake/full_-MiaHAb7oKxrafkHwoPr.wav  \n",
            "  inflating: /content/Dataset_Speech_Assignment/Fake/full_-MiaHSmdqzJqJ5O8wnAV.wav  \n",
            "  inflating: /content/Dataset_Speech_Assignment/Fake/full_-MiaJ17yCwdyTA79U3l4.wav  \n",
            "  inflating: /content/Dataset_Speech_Assignment/Fake/full_-MiaJSQIwiH93mWxCT8q.wav  \n",
            "  inflating: /content/Dataset_Speech_Assignment/Fake/full_-MiaJyCLabOmLJv4jslu.wav  \n",
            "  inflating: /content/Dataset_Speech_Assignment/Fake/full_-MiaKc8PntSUM1tLRsYg.wav  \n",
            "  inflating: /content/Dataset_Speech_Assignment/Fake/full_-MiaKGhnF1wi3kbUVnED.wav  \n",
            "  inflating: /content/Dataset_Speech_Assignment/Fake/full_-MiaKpPcvJYhP0_4wiqV.wav  \n",
            "  inflating: /content/Dataset_Speech_Assignment/Fake/full_-MiaL5eChRJY36MQcht1.wav  \n",
            "  inflating: /content/Dataset_Speech_Assignment/Fake/full_-MiaLh7ZOVlQb2Yixn9r.wav  \n",
            "  inflating: /content/Dataset_Speech_Assignment/Fake/full_-MiaLWod7QmTm4nX4Yxw.wav  \n",
            "  inflating: /content/Dataset_Speech_Assignment/Fake/full_-MmMggzQYiUs1EbXmmEv.wav  \n",
            "  inflating: /content/Dataset_Speech_Assignment/Fake/full_-MNf1_R0nNHpq73eg7yr.mp3  \n",
            "  inflating: /content/Dataset_Speech_Assignment/Fake/full_-MNf1Up50AJoNeQfp0_E.mp3  \n",
            "  inflating: /content/Dataset_Speech_Assignment/Fake/full_-MNf1VPqkdybbzkibu5J.mp3  \n",
            "  inflating: /content/Dataset_Speech_Assignment/Fake/full_-MNf1Vxt10koB-ObvZjU.mp3  \n",
            "  inflating: /content/Dataset_Speech_Assignment/Fake/full_-MNf1YAjOv08Blxke9e7.mp3  \n",
            "  inflating: /content/Dataset_Speech_Assignment/Fake/full_-MNf1Yk1-BA_-05yqhxY.mp3  \n",
            "  inflating: /content/Dataset_Speech_Assignment/Fake/full_-MNf1ZIYtFlKVVR8wCQw.mp3  \n",
            "  inflating: /content/Dataset_Speech_Assignment/Fake/full_-MNf1ZsKwHKeOfJAAIkf.mp3  \n",
            "  inflating: /content/Dataset_Speech_Assignment/Fake/Hudson+US.wav  \n",
            "  inflating: /content/Dataset_Speech_Assignment/Fake/JFK-sample.wav  \n",
            "  inflating: /content/Dataset_Speech_Assignment/Fake/Jordan+US.wav  \n",
            "  inflating: /content/Dataset_Speech_Assignment/Fake/JR-sample.wav  \n",
            "  inflating: /content/Dataset_Speech_Assignment/Fake/KevinHart.wav  \n",
            "  inflating: /content/Dataset_Speech_Assignment/Fake/Larry+US.wav  \n",
            "  inflating: /content/Dataset_Speech_Assignment/Fake/linus-to-musk-DEMO.mp3  \n",
            "  inflating: /content/Dataset_Speech_Assignment/Fake/LJ050-0082_gen.wav  \n",
            "  inflating: /content/Dataset_Speech_Assignment/Fake/Local+Accents.mp3  \n",
            "  inflating: /content/Dataset_Speech_Assignment/Fake/Narrative+Voices.mp3  \n",
            "  inflating: /content/Dataset_Speech_Assignment/Fake/Neil-DeGrasse-Tyson-sample.wav  \n",
            "  inflating: /content/Dataset_Speech_Assignment/Fake/NickOfferman.wav  \n",
            "  inflating: /content/Dataset_Speech_Assignment/Fake/Obama-sample.wav  \n",
            "  inflating: /content/Dataset_Speech_Assignment/Fake/Oliver+UK.wav  \n",
            "  inflating: /content/Dataset_Speech_Assignment/Fake/Play.ht+-+short+story.wav  \n",
            "  inflating: /content/Dataset_Speech_Assignment/Fake/Play.ht+-+videos.wav  \n",
            "  inflating: /content/Dataset_Speech_Assignment/Fake/queen-elizabeth-ii-reads-god-save-the-queen-by-sex-pistols-speech-synthesis.wav  \n",
            "  inflating: /content/Dataset_Speech_Assignment/Fake/Stella+UK.wav  \n",
            "  inflating: /content/Dataset_Speech_Assignment/Fake/Susan+US.wav  \n",
            "  inflating: /content/Dataset_Speech_Assignment/Fake/TomHanks.wav  \n",
            "  inflating: /content/Dataset_Speech_Assignment/Fake/Training+Voices.mp3  \n",
            "  inflating: /content/Dataset_Speech_Assignment/Fake/William+US.wav  \n",
            "  inflating: /content/Dataset_Speech_Assignment/Fake/z-covers-we-didnt-start-the-fire-by-billy-joel-speech-synthesis.wav  \n",
            "  inflating: /content/Dataset_Speech_Assignment/Real/Central Avenue 1.wav  \n",
            "  inflating: /content/Dataset_Speech_Assignment/Real/Central Avenue 2.wav  \n",
            "  inflating: /content/Dataset_Speech_Assignment/Real/Central Avenue 3.wav  \n",
            "  inflating: /content/Dataset_Speech_Assignment/Real/Central Avenue 4.wav  \n",
            "  inflating: /content/Dataset_Speech_Assignment/Real/Central Avenue 5.wav  \n",
            "  inflating: /content/Dataset_Speech_Assignment/Real/Central Avenue 6.wav  \n",
            "  inflating: /content/Dataset_Speech_Assignment/Real/Central Avenue 7.wav  \n",
            "  inflating: /content/Dataset_Speech_Assignment/Real/Central Avenue 9.wav  \n",
            "  inflating: /content/Dataset_Speech_Assignment/Real/Gujarati.mp3  \n",
            "  inflating: /content/Dataset_Speech_Assignment/Real/hindi.mp3  \n",
            "  inflating: /content/Dataset_Speech_Assignment/Real/real_hindi.mp3  \n",
            "  inflating: /content/Dataset_Speech_Assignment/Real/Real_JamesOriginalVoice.mp3  \n",
            "  inflating: /content/Dataset_Speech_Assignment/Real/Real_TiffanyOriginalVoice.mp3  \n",
            "  inflating: /content/Dataset_Speech_Assignment/Real/RealGlindaOriginalVoice.mp3  \n",
            "  inflating: /content/Dataset_Speech_Assignment/Real/vad_00_4jhJPdJPorY.wav  \n",
            "  inflating: /content/Dataset_Speech_Assignment/Real/vad_00_8mckC8VBDHo.wav  \n",
            "  inflating: /content/Dataset_Speech_Assignment/Real/vad_00_akbwr49hP0A.wav  \n",
            "  inflating: /content/Dataset_Speech_Assignment/Real/vad_00_D7qN0JB44ks.wav  \n",
            "  inflating: /content/Dataset_Speech_Assignment/Real/vad_00_doiBdZCkEWQ.wav  \n",
            "  inflating: /content/Dataset_Speech_Assignment/Real/vad_00_hlzbjwPRNY4.wav  \n",
            "  inflating: /content/Dataset_Speech_Assignment/Real/vad_00_hq7fDV3zyKg.wav  \n",
            "  inflating: /content/Dataset_Speech_Assignment/Real/vad_00_lxuaQDmrBg8.wav  \n",
            "  inflating: /content/Dataset_Speech_Assignment/Real/vad_00_mBflyZjG29U.wav  \n",
            "  inflating: /content/Dataset_Speech_Assignment/Real/vad_00_SD23tzTVnKM.wav  \n",
            "  inflating: /content/Dataset_Speech_Assignment/Real/vad_00_U4px7ANlmck.wav  \n",
            "  inflating: /content/Dataset_Speech_Assignment/Real/vad_00_U7fydLHVWsg.wav  \n",
            "  inflating: /content/Dataset_Speech_Assignment/Real/vad_00_vbj9tOXCBu0.wav  \n",
            "  inflating: /content/Dataset_Speech_Assignment/Real/vad_00_WX_DCcvhA6c.wav  \n",
            "  inflating: /content/Dataset_Speech_Assignment/Real/vad_00_zeKUm7LWyAo.wav  \n",
            "  inflating: /content/Dataset_Speech_Assignment/Real/vad_00_zVVCun3C-oU.wav  \n",
            "  inflating: /content/Dataset_Speech_Assignment/Real/vad_00_ZWNArvn5-_Y.wav  \n",
            "  inflating: /content/Dataset_Speech_Assignment/Real/vad_01_4jhJPdJPorY.wav  \n",
            "  inflating: /content/Dataset_Speech_Assignment/Real/vad_01_akbwr49hP0A.wav  \n",
            "  inflating: /content/Dataset_Speech_Assignment/Real/vad_01_D7qN0JB44ks.wav  \n",
            "  inflating: /content/Dataset_Speech_Assignment/Real/vad_01_hlzbjwPRNY4.wav  \n",
            "  inflating: /content/Dataset_Speech_Assignment/Real/vad_01_hq7fDV3zyKg.wav  \n",
            "  inflating: /content/Dataset_Speech_Assignment/Real/vad_01_mBflyZjG29U.wav  \n",
            "  inflating: /content/Dataset_Speech_Assignment/Real/vad_01_vbj9tOXCBu0.wav  \n",
            "  inflating: /content/Dataset_Speech_Assignment/Real/vad_01_zVVCun3C-oU.wav  \n",
            "  inflating: /content/Dataset_Speech_Assignment/Real/vad_01_ZWNArvn5-_Y.wav  \n",
            "  inflating: /content/Dataset_Speech_Assignment/Real/vad_02_4jhJPdJPorY.wav  \n",
            "  inflating: /content/Dataset_Speech_Assignment/Real/vad_02_akbwr49hP0A.wav  \n",
            "  inflating: /content/Dataset_Speech_Assignment/Real/vad_02_Au_bch7bnvE.wav  \n",
            "  inflating: /content/Dataset_Speech_Assignment/Real/vad_02_D7qN0JB44ks.wav  \n",
            "  inflating: /content/Dataset_Speech_Assignment/Real/vad_02_hq7fDV3zyKg.wav  \n",
            "  inflating: /content/Dataset_Speech_Assignment/Real/vad_02_mBflyZjG29U.wav  \n",
            "  inflating: /content/Dataset_Speech_Assignment/Real/vad_02_vbj9tOXCBu0.wav  \n",
            "  inflating: /content/Dataset_Speech_Assignment/Real/vad_02_zVVCun3C-oU.wav  \n",
            "  inflating: /content/Dataset_Speech_Assignment/Real/vad_02_ZWNArvn5-_Y.wav  \n",
            "  inflating: /content/Dataset_Speech_Assignment/Real/vad_03_4jhJPdJPorY.wav  \n",
            "  inflating: /content/Dataset_Speech_Assignment/Real/vad_03_akbwr49hP0A.wav  \n",
            "  inflating: /content/Dataset_Speech_Assignment/Real/vad_03_D7qN0JB44ks.wav  \n",
            "  inflating: /content/Dataset_Speech_Assignment/Real/vad_03_hlzbjwPRNY4.wav  \n",
            "  inflating: /content/Dataset_Speech_Assignment/Real/vad_03_lxuaQDmrBg8.wav  \n",
            "  inflating: /content/Dataset_Speech_Assignment/Real/vad_03_vbj9tOXCBu0.wav  \n",
            "  inflating: /content/Dataset_Speech_Assignment/Real/vad_03_zVVCun3C-oU.wav  \n",
            "  inflating: /content/Dataset_Speech_Assignment/Real/vad_03_ZWNArvn5-_Y.wav  \n",
            "  inflating: /content/Dataset_Speech_Assignment/Real/vad_04_4jhJPdJPorY.wav  \n",
            "  inflating: /content/Dataset_Speech_Assignment/Real/vad_04_akbwr49hP0A.wav  \n",
            "  inflating: /content/Dataset_Speech_Assignment/Real/vad_04_D7qN0JB44ks.wav  \n",
            "  inflating: /content/Dataset_Speech_Assignment/Real/vad_04_vbj9tOXCBu0.wav  \n",
            "  inflating: /content/Dataset_Speech_Assignment/Real/vad_04_zVVCun3C-oU.wav  \n",
            "  inflating: /content/Dataset_Speech_Assignment/Real/vad_04_ZWNArvn5-_Y.wav  \n",
            "  inflating: /content/Dataset_Speech_Assignment/Real/vad_05_4jhJPdJPorY.wav  \n",
            "  inflating: /content/Dataset_Speech_Assignment/Real/vad_05_D7qN0JB44ks.wav  \n",
            "  inflating: /content/Dataset_Speech_Assignment/Real/vad_05_vbj9tOXCBu0.wav  \n",
            "  inflating: /content/Dataset_Speech_Assignment/Real/vad_05_zVVCun3C-oU.wav  \n",
            "  inflating: /content/Dataset_Speech_Assignment/Real/vad_05_ZWNArvn5-_Y.wav  \n",
            "  inflating: /content/Dataset_Speech_Assignment/Real/vad_06_Au_bch7bnvE.wav  \n",
            "  inflating: /content/Dataset_Speech_Assignment/Real/vad_06_lmBFzXHwkGM.wav  \n",
            "  inflating: /content/Dataset_Speech_Assignment/Real/vad_06_vbj9tOXCBu0.wav  \n",
            "  inflating: /content/Dataset_Speech_Assignment/Real/vad_06_zVVCun3C-oU.wav  \n",
            "  inflating: /content/Dataset_Speech_Assignment/Real/vad_06_ZWNArvn5-_Y.wav  \n",
            "  inflating: /content/Dataset_Speech_Assignment/Real/vad_07_4jhJPdJPorY.wav  \n",
            "  inflating: /content/Dataset_Speech_Assignment/Real/vad_07_lmBFzXHwkGM.wav  \n",
            "  inflating: /content/Dataset_Speech_Assignment/Real/vad_07_vbj9tOXCBu0.wav  \n",
            "  inflating: /content/Dataset_Speech_Assignment/Real/vad_07_ZWNArvn5-_Y.wav  \n",
            "  inflating: /content/Dataset_Speech_Assignment/Real/vad_08_lmBFzXHwkGM.wav  \n",
            "  inflating: /content/Dataset_Speech_Assignment/Real/vad_08_vbj9tOXCBu0.wav  \n",
            "  inflating: /content/Dataset_Speech_Assignment/Real/vad_09_4jhJPdJPorY.wav  \n",
            "  inflating: /content/Dataset_Speech_Assignment/Real/vad_09_vbj9tOXCBu0.wav  \n",
            "  inflating: /content/Dataset_Speech_Assignment/Real/vad_10_4jhJPdJPorY.wav  \n",
            "  inflating: /content/Dataset_Speech_Assignment/Real/vad_10_vbj9tOXCBu0.wav  \n",
            "  inflating: /content/Dataset_Speech_Assignment/Real/vad_11_4jhJPdJPorY.wav  \n",
            "  inflating: /content/Dataset_Speech_Assignment/Real/vad_11_vbj9tOXCBu0.wav  \n",
            "  inflating: /content/Dataset_Speech_Assignment/Real/vad_11_ZWNArvn5-_Y.wav  \n",
            "  inflating: /content/Dataset_Speech_Assignment/Real/vad_119_Au_bch7bnvE.wav  \n",
            "  inflating: /content/Dataset_Speech_Assignment/Real/vad_12_4jhJPdJPorY.wav  \n",
            "  inflating: /content/Dataset_Speech_Assignment/Real/vad_12_lmBFzXHwkGM.wav  \n",
            "  inflating: /content/Dataset_Speech_Assignment/Real/vad_12_vbj9tOXCBu0.wav  \n",
            "  inflating: /content/Dataset_Speech_Assignment/Real/vad_12_ZWNArvn5-_Y.wav  \n",
            "  inflating: /content/Dataset_Speech_Assignment/Real/vad_13_4jhJPdJPorY.wav  \n",
            "  inflating: /content/Dataset_Speech_Assignment/Real/vad_13_vbj9tOXCBu0.wav  \n",
            "  inflating: /content/Dataset_Speech_Assignment/Real/vad_14_4jhJPdJPorY.wav  \n",
            "  inflating: /content/Dataset_Speech_Assignment/Real/vad_14_Au_bch7bnvE.wav  \n",
            "  inflating: /content/Dataset_Speech_Assignment/Real/vad_14_vbj9tOXCBu0.wav  \n",
            "  inflating: /content/Dataset_Speech_Assignment/Real/vad_15_4jhJPdJPorY.wav  \n",
            "  inflating: /content/Dataset_Speech_Assignment/Real/vad_15_lmBFzXHwkGM.wav  \n",
            "  inflating: /content/Dataset_Speech_Assignment/Real/vad_15_vbj9tOXCBu0.wav  \n",
            "  inflating: /content/Dataset_Speech_Assignment/Real/vad_15_ZWNArvn5-_Y.wav  \n",
            "  inflating: /content/Dataset_Speech_Assignment/Real/vad_16_4jhJPdJPorY.wav  \n",
            "  inflating: /content/Dataset_Speech_Assignment/Real/vad_16_lmBFzXHwkGM.wav  \n",
            "  inflating: /content/Dataset_Speech_Assignment/Real/vad_16_vbj9tOXCBu0.wav  \n",
            "  inflating: /content/Dataset_Speech_Assignment/Real/vad_16_ZWNArvn5-_Y.wav  \n",
            "  inflating: /content/Dataset_Speech_Assignment/Real/vad_17_4jhJPdJPorY.wav  \n",
            "  inflating: /content/Dataset_Speech_Assignment/Real/vad_17_vbj9tOXCBu0.wav  \n",
            "  inflating: /content/Dataset_Speech_Assignment/Real/vad_18_4jhJPdJPorY.wav  \n",
            "  inflating: /content/Dataset_Speech_Assignment/Real/vad_18_vbj9tOXCBu0.wav  \n",
            "  inflating: /content/Dataset_Speech_Assignment/Real/vad_18_ZWNArvn5-_Y.wav  \n",
            "  inflating: /content/Dataset_Speech_Assignment/Real/vad_19_4jhJPdJPorY.wav  \n",
            "  inflating: /content/Dataset_Speech_Assignment/Real/vad_19_lmBFzXHwkGM.wav  \n",
            "  inflating: /content/Dataset_Speech_Assignment/Real/vad_19_vbj9tOXCBu0.wav  \n",
            "  inflating: /content/Dataset_Speech_Assignment/Real/vad_196_Au_bch7bnvE.wav  \n",
            "  inflating: /content/Dataset_Speech_Assignment/Real/vad_20_lmBFzXHwkGM.wav  \n",
            "  inflating: /content/Dataset_Speech_Assignment/Real/vad_20_SD23tzTVnKM.wav  \n",
            "  inflating: /content/Dataset_Speech_Assignment/Real/vad_20_vbj9tOXCBu0.wav  \n",
            "  inflating: /content/Dataset_Speech_Assignment/Real/vad_20_ZWNArvn5-_Y.wav  \n",
            "  inflating: /content/Dataset_Speech_Assignment/Real/vad_21_4jhJPdJPorY.wav  \n",
            "  inflating: /content/Dataset_Speech_Assignment/Real/vad_21_SD23tzTVnKM.wav  \n",
            "  inflating: /content/Dataset_Speech_Assignment/Real/vad_21_vbj9tOXCBu0.wav  \n",
            "  inflating: /content/Dataset_Speech_Assignment/Real/vad_22_4jhJPdJPorY.wav  \n",
            "  inflating: /content/Dataset_Speech_Assignment/Real/vad_22_vbj9tOXCBu0.wav  \n",
            "  inflating: /content/Dataset_Speech_Assignment/Real/vad_22_ZWNArvn5-_Y.wav  \n",
            "  inflating: /content/Dataset_Speech_Assignment/Real/vad_23_4jhJPdJPorY.wav  \n",
            "  inflating: /content/Dataset_Speech_Assignment/Real/vad_23_Au_bch7bnvE.wav  \n",
            "  inflating: /content/Dataset_Speech_Assignment/Real/vad_23_SD23tzTVnKM.wav  \n",
            "  inflating: /content/Dataset_Speech_Assignment/Real/vad_23_vbj9tOXCBu0.wav  \n",
            "  inflating: /content/Dataset_Speech_Assignment/Real/vad_24_4jhJPdJPorY.wav  \n",
            "  inflating: /content/Dataset_Speech_Assignment/Real/vad_24_Au_bch7bnvE.wav  \n",
            "  inflating: /content/Dataset_Speech_Assignment/Real/vad_24_vbj9tOXCBu0.wav  \n",
            "  inflating: /content/Dataset_Speech_Assignment/Real/vad_25_lmBFzXHwkGM.wav  \n",
            "  inflating: /content/Dataset_Speech_Assignment/Real/vad_25_vbj9tOXCBu0.wav  \n",
            "  inflating: /content/Dataset_Speech_Assignment/Real/vad_26_vbj9tOXCBu0.wav  \n",
            "  inflating: /content/Dataset_Speech_Assignment/Real/vad_27_4jhJPdJPorY.wav  \n",
            "  inflating: /content/Dataset_Speech_Assignment/Real/vad_27_vbj9tOXCBu0.wav  \n",
            "  inflating: /content/Dataset_Speech_Assignment/Real/vad_28_bn1mwPZmRJo.wav  \n",
            "  inflating: /content/Dataset_Speech_Assignment/Real/vad_28_vbj9tOXCBu0.wav  \n",
            "  inflating: /content/Dataset_Speech_Assignment/Real/vad_29_4jhJPdJPorY.wav  \n",
            "  inflating: /content/Dataset_Speech_Assignment/Real/vad_29_vbj9tOXCBu0.wav  \n",
            "  inflating: /content/Dataset_Speech_Assignment/Real/vad_30_4jhJPdJPorY.wav  \n",
            "  inflating: /content/Dataset_Speech_Assignment/Real/vad_30_vbj9tOXCBu0.wav  \n",
            "  inflating: /content/Dataset_Speech_Assignment/Real/vad_31_4jhJPdJPorY.wav  \n",
            "  inflating: /content/Dataset_Speech_Assignment/Real/vad_31_vbj9tOXCBu0.wav  \n",
            "  inflating: /content/Dataset_Speech_Assignment/Real/vad_32_4jhJPdJPorY.wav  \n",
            "  inflating: /content/Dataset_Speech_Assignment/Real/vad_32_vbj9tOXCBu0.wav  \n",
            "  inflating: /content/Dataset_Speech_Assignment/Real/vad_32_ZWNArvn5-_Y.wav  \n",
            "  inflating: /content/Dataset_Speech_Assignment/Real/vad_33_4jhJPdJPorY.wav  \n",
            "  inflating: /content/Dataset_Speech_Assignment/Real/vad_34_4jhJPdJPorY.wav  \n",
            "  inflating: /content/Dataset_Speech_Assignment/Real/vad_34_Au_bch7bnvE.wav  \n",
            "  inflating: /content/Dataset_Speech_Assignment/Real/vad_34_ZWNArvn5-_Y.wav  \n",
            "  inflating: /content/Dataset_Speech_Assignment/Real/vad_35_4jhJPdJPorY.wav  \n",
            "  inflating: /content/Dataset_Speech_Assignment/Real/vad_36_4jhJPdJPorY.wav  \n",
            "  inflating: /content/Dataset_Speech_Assignment/Real/vad_36_Au_bch7bnvE.wav  \n",
            "  inflating: /content/Dataset_Speech_Assignment/Real/vad_37_4jhJPdJPorY.wav  \n",
            "  inflating: /content/Dataset_Speech_Assignment/Real/vad_38_4jhJPdJPorY.wav  \n",
            "  inflating: /content/Dataset_Speech_Assignment/Real/vad_39_4jhJPdJPorY.wav  \n",
            "  inflating: /content/Dataset_Speech_Assignment/Real/vad_40_4jhJPdJPorY.wav  \n",
            "  inflating: /content/Dataset_Speech_Assignment/Real/vad_41_4jhJPdJPorY.wav  \n",
            "  inflating: /content/Dataset_Speech_Assignment/Real/vad_42_4jhJPdJPorY.wav  \n",
            "  inflating: /content/Dataset_Speech_Assignment/Real/vad_43_4jhJPdJPorY.wav  \n",
            "  inflating: /content/Dataset_Speech_Assignment/Real/vad_44_4jhJPdJPorY.wav  \n",
            "  inflating: /content/Dataset_Speech_Assignment/Real/vad_45_4jhJPdJPorY.wav  \n",
            "  inflating: /content/Dataset_Speech_Assignment/Real/vad_46_4jhJPdJPorY.wav  \n",
            "  inflating: /content/Dataset_Speech_Assignment/Real/vad_47_4jhJPdJPorY.wav  \n",
            "  inflating: /content/Dataset_Speech_Assignment/Real/vad_48_4jhJPdJPorY.wav  \n",
            "  inflating: /content/Dataset_Speech_Assignment/Real/vad_49_4jhJPdJPorY.wav  \n",
            "  inflating: /content/Dataset_Speech_Assignment/Real/vad_49_Au_bch7bnvE.wav  \n",
            "  inflating: /content/Dataset_Speech_Assignment/Real/vad_50_4jhJPdJPorY.wav  \n",
            "  inflating: /content/Dataset_Speech_Assignment/Real/vad_51_4jhJPdJPorY.wav  \n",
            "  inflating: /content/Dataset_Speech_Assignment/Real/vad_53_4jhJPdJPorY.wav  \n",
            "  inflating: /content/Dataset_Speech_Assignment/Real/vad_54_4jhJPdJPorY.wav  \n",
            "  inflating: /content/Dataset_Speech_Assignment/Real/vad_55_4jhJPdJPorY.wav  \n",
            "  inflating: /content/Dataset_Speech_Assignment/Real/vad_56_4jhJPdJPorY.wav  \n",
            "  inflating: /content/Dataset_Speech_Assignment/Real/vad_57_4jhJPdJPorY.wav  \n",
            "  inflating: /content/Dataset_Speech_Assignment/Real/vad_58_4jhJPdJPorY.wav  \n",
            "  inflating: /content/Dataset_Speech_Assignment/Real/vad_60_bn1mwPZmRJo.wav  \n",
            "  inflating: /content/Dataset_Speech_Assignment/Real/vad_61_Au_bch7bnvE.wav  \n",
            "  inflating: /content/Dataset_Speech_Assignment/Real/vad_61_bn1mwPZmRJo.wav  \n",
            "  inflating: /content/Dataset_Speech_Assignment/Real/vad_62_bn1mwPZmRJo.wav  \n",
            "  inflating: /content/Dataset_Speech_Assignment/Real/vad_80_Au_bch7bnvE.wav  \n"
          ]
        }
      ]
    },
    {
      "cell_type": "code",
      "source": [
        "## provided audio files are from different formst like .wav .mp3 etc, hence converting all files into .flac files\n",
        "for fil in glob.glob(\"/content/Dataset_Speech_Assignment/*/*\"):\n",
        "  current_fil = fil\n",
        "  new_fil = '_'.join(fil.strip().split()).replace('(', '').replace(')', '')\n",
        "  if '.flac' not in new_fil:\n",
        "    os.rename(current_fil, new_fil)\n",
        "    flac_fil = new_fil.split('.')[0] + '.flac'\n",
        "    !ffmpeg -hide_banner -loglevel error -y -i {new_fil} -ar 16000 {flac_fil}"
      ],
      "metadata": {
        "id": "RY8MSqCWc7w8"
      },
      "execution_count": 3,
      "outputs": []
    },
    {
      "cell_type": "code",
      "source": [
        "## creating a dataframe that consists of audio file path, tand their label either real (1) or fake (0)\n",
        "df = pd.DataFrame(glob.glob(\"/content/Dataset_Speech_Assignment/*/*.flac\"), columns = ['file_path'])\n",
        "df['real_or_fake'] = df['file_path'].apply(lambda x : x.split('/')[-2])\n",
        "df['label'] = df['real_or_fake'].apply(lambda x : 1 if x=='Real' else 0)"
      ],
      "metadata": {
        "id": "GtEQxA6p2KRP"
      },
      "execution_count": 2,
      "outputs": []
    },
    {
      "cell_type": "code",
      "source": [
        "df.head()"
      ],
      "metadata": {
        "colab": {
          "base_uri": "https://localhost:8080/",
          "height": 206
        },
        "outputId": "a3cac01f-b447-4d8b-da07-3923844b1f88",
        "id": "SnEElkwg2KRP"
      },
      "execution_count": 3,
      "outputs": [
        {
          "output_type": "execute_result",
          "data": {
            "text/plain": [
              "                                           file_path real_or_fake  label\n",
              "0  /content/Dataset_Speech_Assignment/Fake/en-US-...         Fake      0\n",
              "1  /content/Dataset_Speech_Assignment/Fake/en-US-...         Fake      0\n",
              "2  /content/Dataset_Speech_Assignment/Fake/full_-...         Fake      0\n",
              "3  /content/Dataset_Speech_Assignment/Fake/Childr...         Fake      0\n",
              "4  /content/Dataset_Speech_Assignment/Fake/a-deep...         Fake      0"
            ],
            "text/html": [
              "\n",
              "  <div id=\"df-d5f52370-170e-4646-a62f-e3ade828cd33\" class=\"colab-df-container\">\n",
              "    <div>\n",
              "<style scoped>\n",
              "    .dataframe tbody tr th:only-of-type {\n",
              "        vertical-align: middle;\n",
              "    }\n",
              "\n",
              "    .dataframe tbody tr th {\n",
              "        vertical-align: top;\n",
              "    }\n",
              "\n",
              "    .dataframe thead th {\n",
              "        text-align: right;\n",
              "    }\n",
              "</style>\n",
              "<table border=\"1\" class=\"dataframe\">\n",
              "  <thead>\n",
              "    <tr style=\"text-align: right;\">\n",
              "      <th></th>\n",
              "      <th>file_path</th>\n",
              "      <th>real_or_fake</th>\n",
              "      <th>label</th>\n",
              "    </tr>\n",
              "  </thead>\n",
              "  <tbody>\n",
              "    <tr>\n",
              "      <th>0</th>\n",
              "      <td>/content/Dataset_Speech_Assignment/Fake/en-US-...</td>\n",
              "      <td>Fake</td>\n",
              "      <td>0</td>\n",
              "    </tr>\n",
              "    <tr>\n",
              "      <th>1</th>\n",
              "      <td>/content/Dataset_Speech_Assignment/Fake/en-US-...</td>\n",
              "      <td>Fake</td>\n",
              "      <td>0</td>\n",
              "    </tr>\n",
              "    <tr>\n",
              "      <th>2</th>\n",
              "      <td>/content/Dataset_Speech_Assignment/Fake/full_-...</td>\n",
              "      <td>Fake</td>\n",
              "      <td>0</td>\n",
              "    </tr>\n",
              "    <tr>\n",
              "      <th>3</th>\n",
              "      <td>/content/Dataset_Speech_Assignment/Fake/Childr...</td>\n",
              "      <td>Fake</td>\n",
              "      <td>0</td>\n",
              "    </tr>\n",
              "    <tr>\n",
              "      <th>4</th>\n",
              "      <td>/content/Dataset_Speech_Assignment/Fake/a-deep...</td>\n",
              "      <td>Fake</td>\n",
              "      <td>0</td>\n",
              "    </tr>\n",
              "  </tbody>\n",
              "</table>\n",
              "</div>\n",
              "    <div class=\"colab-df-buttons\">\n",
              "\n",
              "  <div class=\"colab-df-container\">\n",
              "    <button class=\"colab-df-convert\" onclick=\"convertToInteractive('df-d5f52370-170e-4646-a62f-e3ade828cd33')\"\n",
              "            title=\"Convert this dataframe to an interactive table.\"\n",
              "            style=\"display:none;\">\n",
              "\n",
              "  <svg xmlns=\"http://www.w3.org/2000/svg\" height=\"24px\" viewBox=\"0 -960 960 960\">\n",
              "    <path d=\"M120-120v-720h720v720H120Zm60-500h600v-160H180v160Zm220 220h160v-160H400v160Zm0 220h160v-160H400v160ZM180-400h160v-160H180v160Zm440 0h160v-160H620v160ZM180-180h160v-160H180v160Zm440 0h160v-160H620v160Z\"/>\n",
              "  </svg>\n",
              "    </button>\n",
              "\n",
              "  <style>\n",
              "    .colab-df-container {\n",
              "      display:flex;\n",
              "      gap: 12px;\n",
              "    }\n",
              "\n",
              "    .colab-df-convert {\n",
              "      background-color: #E8F0FE;\n",
              "      border: none;\n",
              "      border-radius: 50%;\n",
              "      cursor: pointer;\n",
              "      display: none;\n",
              "      fill: #1967D2;\n",
              "      height: 32px;\n",
              "      padding: 0 0 0 0;\n",
              "      width: 32px;\n",
              "    }\n",
              "\n",
              "    .colab-df-convert:hover {\n",
              "      background-color: #E2EBFA;\n",
              "      box-shadow: 0px 1px 2px rgba(60, 64, 67, 0.3), 0px 1px 3px 1px rgba(60, 64, 67, 0.15);\n",
              "      fill: #174EA6;\n",
              "    }\n",
              "\n",
              "    .colab-df-buttons div {\n",
              "      margin-bottom: 4px;\n",
              "    }\n",
              "\n",
              "    [theme=dark] .colab-df-convert {\n",
              "      background-color: #3B4455;\n",
              "      fill: #D2E3FC;\n",
              "    }\n",
              "\n",
              "    [theme=dark] .colab-df-convert:hover {\n",
              "      background-color: #434B5C;\n",
              "      box-shadow: 0px 1px 3px 1px rgba(0, 0, 0, 0.15);\n",
              "      filter: drop-shadow(0px 1px 2px rgba(0, 0, 0, 0.3));\n",
              "      fill: #FFFFFF;\n",
              "    }\n",
              "  </style>\n",
              "\n",
              "    <script>\n",
              "      const buttonEl =\n",
              "        document.querySelector('#df-d5f52370-170e-4646-a62f-e3ade828cd33 button.colab-df-convert');\n",
              "      buttonEl.style.display =\n",
              "        google.colab.kernel.accessAllowed ? 'block' : 'none';\n",
              "\n",
              "      async function convertToInteractive(key) {\n",
              "        const element = document.querySelector('#df-d5f52370-170e-4646-a62f-e3ade828cd33');\n",
              "        const dataTable =\n",
              "          await google.colab.kernel.invokeFunction('convertToInteractive',\n",
              "                                                    [key], {});\n",
              "        if (!dataTable) return;\n",
              "\n",
              "        const docLinkHtml = 'Like what you see? Visit the ' +\n",
              "          '<a target=\"_blank\" href=https://colab.research.google.com/notebooks/data_table.ipynb>data table notebook</a>'\n",
              "          + ' to learn more about interactive tables.';\n",
              "        element.innerHTML = '';\n",
              "        dataTable['output_type'] = 'display_data';\n",
              "        await google.colab.output.renderOutput(dataTable, element);\n",
              "        const docLink = document.createElement('div');\n",
              "        docLink.innerHTML = docLinkHtml;\n",
              "        element.appendChild(docLink);\n",
              "      }\n",
              "    </script>\n",
              "  </div>\n",
              "\n",
              "\n",
              "<div id=\"df-7cea71dd-8f93-43a3-ade4-4fc164b6fbf9\">\n",
              "  <button class=\"colab-df-quickchart\" onclick=\"quickchart('df-7cea71dd-8f93-43a3-ade4-4fc164b6fbf9')\"\n",
              "            title=\"Suggest charts\"\n",
              "            style=\"display:none;\">\n",
              "\n",
              "<svg xmlns=\"http://www.w3.org/2000/svg\" height=\"24px\"viewBox=\"0 0 24 24\"\n",
              "     width=\"24px\">\n",
              "    <g>\n",
              "        <path d=\"M19 3H5c-1.1 0-2 .9-2 2v14c0 1.1.9 2 2 2h14c1.1 0 2-.9 2-2V5c0-1.1-.9-2-2-2zM9 17H7v-7h2v7zm4 0h-2V7h2v10zm4 0h-2v-4h2v4z\"/>\n",
              "    </g>\n",
              "</svg>\n",
              "  </button>\n",
              "\n",
              "<style>\n",
              "  .colab-df-quickchart {\n",
              "      --bg-color: #E8F0FE;\n",
              "      --fill-color: #1967D2;\n",
              "      --hover-bg-color: #E2EBFA;\n",
              "      --hover-fill-color: #174EA6;\n",
              "      --disabled-fill-color: #AAA;\n",
              "      --disabled-bg-color: #DDD;\n",
              "  }\n",
              "\n",
              "  [theme=dark] .colab-df-quickchart {\n",
              "      --bg-color: #3B4455;\n",
              "      --fill-color: #D2E3FC;\n",
              "      --hover-bg-color: #434B5C;\n",
              "      --hover-fill-color: #FFFFFF;\n",
              "      --disabled-bg-color: #3B4455;\n",
              "      --disabled-fill-color: #666;\n",
              "  }\n",
              "\n",
              "  .colab-df-quickchart {\n",
              "    background-color: var(--bg-color);\n",
              "    border: none;\n",
              "    border-radius: 50%;\n",
              "    cursor: pointer;\n",
              "    display: none;\n",
              "    fill: var(--fill-color);\n",
              "    height: 32px;\n",
              "    padding: 0;\n",
              "    width: 32px;\n",
              "  }\n",
              "\n",
              "  .colab-df-quickchart:hover {\n",
              "    background-color: var(--hover-bg-color);\n",
              "    box-shadow: 0 1px 2px rgba(60, 64, 67, 0.3), 0 1px 3px 1px rgba(60, 64, 67, 0.15);\n",
              "    fill: var(--button-hover-fill-color);\n",
              "  }\n",
              "\n",
              "  .colab-df-quickchart-complete:disabled,\n",
              "  .colab-df-quickchart-complete:disabled:hover {\n",
              "    background-color: var(--disabled-bg-color);\n",
              "    fill: var(--disabled-fill-color);\n",
              "    box-shadow: none;\n",
              "  }\n",
              "\n",
              "  .colab-df-spinner {\n",
              "    border: 2px solid var(--fill-color);\n",
              "    border-color: transparent;\n",
              "    border-bottom-color: var(--fill-color);\n",
              "    animation:\n",
              "      spin 1s steps(1) infinite;\n",
              "  }\n",
              "\n",
              "  @keyframes spin {\n",
              "    0% {\n",
              "      border-color: transparent;\n",
              "      border-bottom-color: var(--fill-color);\n",
              "      border-left-color: var(--fill-color);\n",
              "    }\n",
              "    20% {\n",
              "      border-color: transparent;\n",
              "      border-left-color: var(--fill-color);\n",
              "      border-top-color: var(--fill-color);\n",
              "    }\n",
              "    30% {\n",
              "      border-color: transparent;\n",
              "      border-left-color: var(--fill-color);\n",
              "      border-top-color: var(--fill-color);\n",
              "      border-right-color: var(--fill-color);\n",
              "    }\n",
              "    40% {\n",
              "      border-color: transparent;\n",
              "      border-right-color: var(--fill-color);\n",
              "      border-top-color: var(--fill-color);\n",
              "    }\n",
              "    60% {\n",
              "      border-color: transparent;\n",
              "      border-right-color: var(--fill-color);\n",
              "    }\n",
              "    80% {\n",
              "      border-color: transparent;\n",
              "      border-right-color: var(--fill-color);\n",
              "      border-bottom-color: var(--fill-color);\n",
              "    }\n",
              "    90% {\n",
              "      border-color: transparent;\n",
              "      border-bottom-color: var(--fill-color);\n",
              "    }\n",
              "  }\n",
              "</style>\n",
              "\n",
              "  <script>\n",
              "    async function quickchart(key) {\n",
              "      const quickchartButtonEl =\n",
              "        document.querySelector('#' + key + ' button');\n",
              "      quickchartButtonEl.disabled = true;  // To prevent multiple clicks.\n",
              "      quickchartButtonEl.classList.add('colab-df-spinner');\n",
              "      try {\n",
              "        const charts = await google.colab.kernel.invokeFunction(\n",
              "            'suggestCharts', [key], {});\n",
              "      } catch (error) {\n",
              "        console.error('Error during call to suggestCharts:', error);\n",
              "      }\n",
              "      quickchartButtonEl.classList.remove('colab-df-spinner');\n",
              "      quickchartButtonEl.classList.add('colab-df-quickchart-complete');\n",
              "    }\n",
              "    (() => {\n",
              "      let quickchartButtonEl =\n",
              "        document.querySelector('#df-7cea71dd-8f93-43a3-ade4-4fc164b6fbf9 button');\n",
              "      quickchartButtonEl.style.display =\n",
              "        google.colab.kernel.accessAllowed ? 'block' : 'none';\n",
              "    })();\n",
              "  </script>\n",
              "</div>\n",
              "\n",
              "    </div>\n",
              "  </div>\n"
            ],
            "application/vnd.google.colaboratory.intrinsic+json": {
              "type": "dataframe",
              "variable_name": "df",
              "summary": "{\n  \"name\": \"df\",\n  \"rows\": 299,\n  \"fields\": [\n    {\n      \"column\": \"file_path\",\n      \"properties\": {\n        \"dtype\": \"string\",\n        \"num_unique_values\": 299,\n        \"samples\": [\n          \"/content/Dataset_Speech_Assignment/Real/vad_03_vbj9tOXCBu0.flac\",\n          \"/content/Dataset_Speech_Assignment/Real/vad_10_vbj9tOXCBu0.flac\",\n          \"/content/Dataset_Speech_Assignment/Real/vad_27_vbj9tOXCBu0.flac\"\n        ],\n        \"semantic_type\": \"\",\n        \"description\": \"\"\n      }\n    },\n    {\n      \"column\": \"real_or_fake\",\n      \"properties\": {\n        \"dtype\": \"category\",\n        \"num_unique_values\": 2,\n        \"samples\": [\n          \"Real\",\n          \"Fake\"\n        ],\n        \"semantic_type\": \"\",\n        \"description\": \"\"\n      }\n    },\n    {\n      \"column\": \"label\",\n      \"properties\": {\n        \"dtype\": \"number\",\n        \"std\": 0,\n        \"min\": 0,\n        \"max\": 1,\n        \"num_unique_values\": 2,\n        \"samples\": [\n          1,\n          0\n        ],\n        \"semantic_type\": \"\",\n        \"description\": \"\"\n      }\n    }\n  ]\n}"
            }
          },
          "metadata": {},
          "execution_count": 3
        }
      ]
    },
    {
      "cell_type": "code",
      "source": [
        "df.tail()"
      ],
      "metadata": {
        "colab": {
          "base_uri": "https://localhost:8080/",
          "height": 206
        },
        "outputId": "4cd5f3aa-8613-4655-c1f4-7f999cdd8050",
        "id": "xqwLF3eu2KRP"
      },
      "execution_count": 4,
      "outputs": [
        {
          "output_type": "execute_result",
          "data": {
            "text/plain": [
              "                                             file_path real_or_fake  label\n",
              "294  /content/Dataset_Speech_Assignment/Real/vad_00...         Real      1\n",
              "295  /content/Dataset_Speech_Assignment/Real/vad_01...         Real      1\n",
              "296  /content/Dataset_Speech_Assignment/Real/vad_34...         Real      1\n",
              "297  /content/Dataset_Speech_Assignment/Real/vad_00...         Real      1\n",
              "298  /content/Dataset_Speech_Assignment/Real/vad_00...         Real      1"
            ],
            "text/html": [
              "\n",
              "  <div id=\"df-ccc6ec07-26f1-4a65-94e5-b5bc97175f77\" class=\"colab-df-container\">\n",
              "    <div>\n",
              "<style scoped>\n",
              "    .dataframe tbody tr th:only-of-type {\n",
              "        vertical-align: middle;\n",
              "    }\n",
              "\n",
              "    .dataframe tbody tr th {\n",
              "        vertical-align: top;\n",
              "    }\n",
              "\n",
              "    .dataframe thead th {\n",
              "        text-align: right;\n",
              "    }\n",
              "</style>\n",
              "<table border=\"1\" class=\"dataframe\">\n",
              "  <thead>\n",
              "    <tr style=\"text-align: right;\">\n",
              "      <th></th>\n",
              "      <th>file_path</th>\n",
              "      <th>real_or_fake</th>\n",
              "      <th>label</th>\n",
              "    </tr>\n",
              "  </thead>\n",
              "  <tbody>\n",
              "    <tr>\n",
              "      <th>294</th>\n",
              "      <td>/content/Dataset_Speech_Assignment/Real/vad_00...</td>\n",
              "      <td>Real</td>\n",
              "      <td>1</td>\n",
              "    </tr>\n",
              "    <tr>\n",
              "      <th>295</th>\n",
              "      <td>/content/Dataset_Speech_Assignment/Real/vad_01...</td>\n",
              "      <td>Real</td>\n",
              "      <td>1</td>\n",
              "    </tr>\n",
              "    <tr>\n",
              "      <th>296</th>\n",
              "      <td>/content/Dataset_Speech_Assignment/Real/vad_34...</td>\n",
              "      <td>Real</td>\n",
              "      <td>1</td>\n",
              "    </tr>\n",
              "    <tr>\n",
              "      <th>297</th>\n",
              "      <td>/content/Dataset_Speech_Assignment/Real/vad_00...</td>\n",
              "      <td>Real</td>\n",
              "      <td>1</td>\n",
              "    </tr>\n",
              "    <tr>\n",
              "      <th>298</th>\n",
              "      <td>/content/Dataset_Speech_Assignment/Real/vad_00...</td>\n",
              "      <td>Real</td>\n",
              "      <td>1</td>\n",
              "    </tr>\n",
              "  </tbody>\n",
              "</table>\n",
              "</div>\n",
              "    <div class=\"colab-df-buttons\">\n",
              "\n",
              "  <div class=\"colab-df-container\">\n",
              "    <button class=\"colab-df-convert\" onclick=\"convertToInteractive('df-ccc6ec07-26f1-4a65-94e5-b5bc97175f77')\"\n",
              "            title=\"Convert this dataframe to an interactive table.\"\n",
              "            style=\"display:none;\">\n",
              "\n",
              "  <svg xmlns=\"http://www.w3.org/2000/svg\" height=\"24px\" viewBox=\"0 -960 960 960\">\n",
              "    <path d=\"M120-120v-720h720v720H120Zm60-500h600v-160H180v160Zm220 220h160v-160H400v160Zm0 220h160v-160H400v160ZM180-400h160v-160H180v160Zm440 0h160v-160H620v160ZM180-180h160v-160H180v160Zm440 0h160v-160H620v160Z\"/>\n",
              "  </svg>\n",
              "    </button>\n",
              "\n",
              "  <style>\n",
              "    .colab-df-container {\n",
              "      display:flex;\n",
              "      gap: 12px;\n",
              "    }\n",
              "\n",
              "    .colab-df-convert {\n",
              "      background-color: #E8F0FE;\n",
              "      border: none;\n",
              "      border-radius: 50%;\n",
              "      cursor: pointer;\n",
              "      display: none;\n",
              "      fill: #1967D2;\n",
              "      height: 32px;\n",
              "      padding: 0 0 0 0;\n",
              "      width: 32px;\n",
              "    }\n",
              "\n",
              "    .colab-df-convert:hover {\n",
              "      background-color: #E2EBFA;\n",
              "      box-shadow: 0px 1px 2px rgba(60, 64, 67, 0.3), 0px 1px 3px 1px rgba(60, 64, 67, 0.15);\n",
              "      fill: #174EA6;\n",
              "    }\n",
              "\n",
              "    .colab-df-buttons div {\n",
              "      margin-bottom: 4px;\n",
              "    }\n",
              "\n",
              "    [theme=dark] .colab-df-convert {\n",
              "      background-color: #3B4455;\n",
              "      fill: #D2E3FC;\n",
              "    }\n",
              "\n",
              "    [theme=dark] .colab-df-convert:hover {\n",
              "      background-color: #434B5C;\n",
              "      box-shadow: 0px 1px 3px 1px rgba(0, 0, 0, 0.15);\n",
              "      filter: drop-shadow(0px 1px 2px rgba(0, 0, 0, 0.3));\n",
              "      fill: #FFFFFF;\n",
              "    }\n",
              "  </style>\n",
              "\n",
              "    <script>\n",
              "      const buttonEl =\n",
              "        document.querySelector('#df-ccc6ec07-26f1-4a65-94e5-b5bc97175f77 button.colab-df-convert');\n",
              "      buttonEl.style.display =\n",
              "        google.colab.kernel.accessAllowed ? 'block' : 'none';\n",
              "\n",
              "      async function convertToInteractive(key) {\n",
              "        const element = document.querySelector('#df-ccc6ec07-26f1-4a65-94e5-b5bc97175f77');\n",
              "        const dataTable =\n",
              "          await google.colab.kernel.invokeFunction('convertToInteractive',\n",
              "                                                    [key], {});\n",
              "        if (!dataTable) return;\n",
              "\n",
              "        const docLinkHtml = 'Like what you see? Visit the ' +\n",
              "          '<a target=\"_blank\" href=https://colab.research.google.com/notebooks/data_table.ipynb>data table notebook</a>'\n",
              "          + ' to learn more about interactive tables.';\n",
              "        element.innerHTML = '';\n",
              "        dataTable['output_type'] = 'display_data';\n",
              "        await google.colab.output.renderOutput(dataTable, element);\n",
              "        const docLink = document.createElement('div');\n",
              "        docLink.innerHTML = docLinkHtml;\n",
              "        element.appendChild(docLink);\n",
              "      }\n",
              "    </script>\n",
              "  </div>\n",
              "\n",
              "\n",
              "<div id=\"df-b68b1156-2e36-460b-aef6-4ea6405e0ec5\">\n",
              "  <button class=\"colab-df-quickchart\" onclick=\"quickchart('df-b68b1156-2e36-460b-aef6-4ea6405e0ec5')\"\n",
              "            title=\"Suggest charts\"\n",
              "            style=\"display:none;\">\n",
              "\n",
              "<svg xmlns=\"http://www.w3.org/2000/svg\" height=\"24px\"viewBox=\"0 0 24 24\"\n",
              "     width=\"24px\">\n",
              "    <g>\n",
              "        <path d=\"M19 3H5c-1.1 0-2 .9-2 2v14c0 1.1.9 2 2 2h14c1.1 0 2-.9 2-2V5c0-1.1-.9-2-2-2zM9 17H7v-7h2v7zm4 0h-2V7h2v10zm4 0h-2v-4h2v4z\"/>\n",
              "    </g>\n",
              "</svg>\n",
              "  </button>\n",
              "\n",
              "<style>\n",
              "  .colab-df-quickchart {\n",
              "      --bg-color: #E8F0FE;\n",
              "      --fill-color: #1967D2;\n",
              "      --hover-bg-color: #E2EBFA;\n",
              "      --hover-fill-color: #174EA6;\n",
              "      --disabled-fill-color: #AAA;\n",
              "      --disabled-bg-color: #DDD;\n",
              "  }\n",
              "\n",
              "  [theme=dark] .colab-df-quickchart {\n",
              "      --bg-color: #3B4455;\n",
              "      --fill-color: #D2E3FC;\n",
              "      --hover-bg-color: #434B5C;\n",
              "      --hover-fill-color: #FFFFFF;\n",
              "      --disabled-bg-color: #3B4455;\n",
              "      --disabled-fill-color: #666;\n",
              "  }\n",
              "\n",
              "  .colab-df-quickchart {\n",
              "    background-color: var(--bg-color);\n",
              "    border: none;\n",
              "    border-radius: 50%;\n",
              "    cursor: pointer;\n",
              "    display: none;\n",
              "    fill: var(--fill-color);\n",
              "    height: 32px;\n",
              "    padding: 0;\n",
              "    width: 32px;\n",
              "  }\n",
              "\n",
              "  .colab-df-quickchart:hover {\n",
              "    background-color: var(--hover-bg-color);\n",
              "    box-shadow: 0 1px 2px rgba(60, 64, 67, 0.3), 0 1px 3px 1px rgba(60, 64, 67, 0.15);\n",
              "    fill: var(--button-hover-fill-color);\n",
              "  }\n",
              "\n",
              "  .colab-df-quickchart-complete:disabled,\n",
              "  .colab-df-quickchart-complete:disabled:hover {\n",
              "    background-color: var(--disabled-bg-color);\n",
              "    fill: var(--disabled-fill-color);\n",
              "    box-shadow: none;\n",
              "  }\n",
              "\n",
              "  .colab-df-spinner {\n",
              "    border: 2px solid var(--fill-color);\n",
              "    border-color: transparent;\n",
              "    border-bottom-color: var(--fill-color);\n",
              "    animation:\n",
              "      spin 1s steps(1) infinite;\n",
              "  }\n",
              "\n",
              "  @keyframes spin {\n",
              "    0% {\n",
              "      border-color: transparent;\n",
              "      border-bottom-color: var(--fill-color);\n",
              "      border-left-color: var(--fill-color);\n",
              "    }\n",
              "    20% {\n",
              "      border-color: transparent;\n",
              "      border-left-color: var(--fill-color);\n",
              "      border-top-color: var(--fill-color);\n",
              "    }\n",
              "    30% {\n",
              "      border-color: transparent;\n",
              "      border-left-color: var(--fill-color);\n",
              "      border-top-color: var(--fill-color);\n",
              "      border-right-color: var(--fill-color);\n",
              "    }\n",
              "    40% {\n",
              "      border-color: transparent;\n",
              "      border-right-color: var(--fill-color);\n",
              "      border-top-color: var(--fill-color);\n",
              "    }\n",
              "    60% {\n",
              "      border-color: transparent;\n",
              "      border-right-color: var(--fill-color);\n",
              "    }\n",
              "    80% {\n",
              "      border-color: transparent;\n",
              "      border-right-color: var(--fill-color);\n",
              "      border-bottom-color: var(--fill-color);\n",
              "    }\n",
              "    90% {\n",
              "      border-color: transparent;\n",
              "      border-bottom-color: var(--fill-color);\n",
              "    }\n",
              "  }\n",
              "</style>\n",
              "\n",
              "  <script>\n",
              "    async function quickchart(key) {\n",
              "      const quickchartButtonEl =\n",
              "        document.querySelector('#' + key + ' button');\n",
              "      quickchartButtonEl.disabled = true;  // To prevent multiple clicks.\n",
              "      quickchartButtonEl.classList.add('colab-df-spinner');\n",
              "      try {\n",
              "        const charts = await google.colab.kernel.invokeFunction(\n",
              "            'suggestCharts', [key], {});\n",
              "      } catch (error) {\n",
              "        console.error('Error during call to suggestCharts:', error);\n",
              "      }\n",
              "      quickchartButtonEl.classList.remove('colab-df-spinner');\n",
              "      quickchartButtonEl.classList.add('colab-df-quickchart-complete');\n",
              "    }\n",
              "    (() => {\n",
              "      let quickchartButtonEl =\n",
              "        document.querySelector('#df-b68b1156-2e36-460b-aef6-4ea6405e0ec5 button');\n",
              "      quickchartButtonEl.style.display =\n",
              "        google.colab.kernel.accessAllowed ? 'block' : 'none';\n",
              "    })();\n",
              "  </script>\n",
              "</div>\n",
              "\n",
              "    </div>\n",
              "  </div>\n"
            ],
            "application/vnd.google.colaboratory.intrinsic+json": {
              "type": "dataframe",
              "summary": "{\n  \"name\": \"df\",\n  \"rows\": 5,\n  \"fields\": [\n    {\n      \"column\": \"file_path\",\n      \"properties\": {\n        \"dtype\": \"string\",\n        \"num_unique_values\": 5,\n        \"samples\": [\n          \"/content/Dataset_Speech_Assignment/Real/vad_01_hq7fDV3zyKg.flac\",\n          \"/content/Dataset_Speech_Assignment/Real/vad_00_zeKUm7LWyAo.flac\",\n          \"/content/Dataset_Speech_Assignment/Real/vad_34_ZWNArvn5-_Y.flac\"\n        ],\n        \"semantic_type\": \"\",\n        \"description\": \"\"\n      }\n    },\n    {\n      \"column\": \"real_or_fake\",\n      \"properties\": {\n        \"dtype\": \"category\",\n        \"num_unique_values\": 1,\n        \"samples\": [\n          \"Real\"\n        ],\n        \"semantic_type\": \"\",\n        \"description\": \"\"\n      }\n    },\n    {\n      \"column\": \"label\",\n      \"properties\": {\n        \"dtype\": \"number\",\n        \"std\": 0,\n        \"min\": 1,\n        \"max\": 1,\n        \"num_unique_values\": 1,\n        \"samples\": [\n          1\n        ],\n        \"semantic_type\": \"\",\n        \"description\": \"\"\n      }\n    }\n  ]\n}"
            }
          },
          "metadata": {},
          "execution_count": 4
        }
      ]
    },
    {
      "cell_type": "code",
      "source": [
        "df.label.value_counts()"
      ],
      "metadata": {
        "colab": {
          "base_uri": "https://localhost:8080/"
        },
        "outputId": "8c596fe1-6e5c-476f-ff39-b6474ea84b12",
        "id": "73f5KK-c2KRP"
      },
      "execution_count": 5,
      "outputs": [
        {
          "output_type": "execute_result",
          "data": {
            "text/plain": [
              "label\n",
              "1    180\n",
              "0    119\n",
              "Name: count, dtype: int64"
            ]
          },
          "metadata": {},
          "execution_count": 5
        }
      ]
    },
    {
      "cell_type": "code",
      "source": [
        "#utility function that wither truncate or pad audio signal to create a fix lenght signal\n",
        "def pad(x, max_len=64600//2):\n",
        "    x_len = x.shape[0]\n",
        "    if x_len >= max_len:\n",
        "        return x[:max_len]\n",
        "    # need to pad\n",
        "    num_repeats = int(max_len / x_len)+1\n",
        "    padded_x = np.tile(x, (1, num_repeats))[:, :max_len][0]\n",
        "    return padded_x"
      ],
      "metadata": {
        "id": "2tKa-rxz2KRP"
      },
      "execution_count": 6,
      "outputs": []
    },
    {
      "cell_type": "code",
      "source": [
        "#custom dataset class for evaluation, this class takes list of audio paths & their labels\n",
        "class Dataset_eval(Dataset):\n",
        "  def __init__(self, file_path, label):\n",
        "    self.file_path = file_path\n",
        "    self.cut=64600//2 # take ~4//2 sec audio (64600//2 samples) ie 2 secs audio (32300 samples)\n",
        "    self.label  = label\n",
        "  def __len__(self):\n",
        "    return len(self.file_path)\n",
        "  def __getitem__(self, index):\n",
        "    X, fs = librosa.load(self.file_path[index], sr=16000)\n",
        "    X_pad = pad(X,self.cut)\n",
        "    x_inp = Tensor(X_pad)\n",
        "    label = self.label[index]\n",
        "    return x_inp, label"
      ],
      "metadata": {
        "id": "88xgKIUW2KRP"
      },
      "execution_count": 7,
      "outputs": []
    },
    {
      "cell_type": "code",
      "source": [
        "#checking shape of a data point\n",
        "eval_set = Dataset_eval(df.file_path.tolist(), df.label.tolist())\n",
        "eval_set[0][0].shape"
      ],
      "metadata": {
        "colab": {
          "base_uri": "https://localhost:8080/"
        },
        "outputId": "cb8cb04d-63c2-4e72-fd87-e6f453bae0ef",
        "id": "YpH1gi6P2KRP"
      },
      "execution_count": 8,
      "outputs": [
        {
          "output_type": "execute_result",
          "data": {
            "text/plain": [
              "torch.Size([32300])"
            ]
          },
          "metadata": {},
          "execution_count": 8
        }
      ]
    },
    {
      "cell_type": "markdown",
      "source": [
        "#### Model"
      ],
      "metadata": {
        "id": "dfIfKqHzXqw9"
      }
    },
    {
      "cell_type": "code",
      "source": [
        "#downloaded Pre trainned model for LA and saved at  my drive location '/content/drive/MyDrive/LA_model.pth'\n",
        "#downloaded Pre trainned model XLSR and saved at  my drive location /content/drive/MyDrive/Best_LA_model_for_DF.pth\n",
        "# above model path need to updated in line 24 in model.py file ie :::  cp_path = '/content/drive/MyDrive/Classroom/xlsr2_300m.pt'"
      ],
      "metadata": {
        "id": "y1UKAz7gxQve"
      },
      "execution_count": 11,
      "outputs": []
    },
    {
      "cell_type": "code",
      "source": [
        "%cd /content/SSL_Anti-spoofing"
      ],
      "metadata": {
        "id": "1c-Iw5CvylUY",
        "colab": {
          "base_uri": "https://localhost:8080/"
        },
        "outputId": "51bb4b2b-045f-4b37-d447-d799dd0c08bb"
      },
      "execution_count": 9,
      "outputs": [
        {
          "output_type": "stream",
          "name": "stdout",
          "text": [
            "/content/SSL_Anti-spoofing\n"
          ]
        }
      ]
    },
    {
      "cell_type": "code",
      "source": [
        "!wget https://dl.fbaipublicfiles.com/fairseq/wav2vec/xlsr2_300m.pt"
      ],
      "metadata": {
        "id": "AuDKyscGbGql",
        "colab": {
          "base_uri": "https://localhost:8080/"
        },
        "outputId": "8a9db1d8-0a3e-4a23-f702-7b885a189cda"
      },
      "execution_count": 13,
      "outputs": [
        {
          "output_type": "stream",
          "name": "stdout",
          "text": [
            "--2024-05-01 08:58:27--  https://dl.fbaipublicfiles.com/fairseq/wav2vec/xlsr2_300m.pt\n",
            "Resolving dl.fbaipublicfiles.com (dl.fbaipublicfiles.com)... 18.165.83.79, 18.165.83.44, 18.165.83.35, ...\n",
            "Connecting to dl.fbaipublicfiles.com (dl.fbaipublicfiles.com)|18.165.83.79|:443... connected.\n",
            "HTTP request sent, awaiting response... 200 OK\n",
            "Length: 3808868242 (3.5G) [binary/octet-stream]\n",
            "Saving to: ‘xlsr2_300m.pt’\n",
            "\n",
            "xlsr2_300m.pt       100%[===================>]   3.55G  49.0MB/s    in 72s     \n",
            "\n",
            "2024-05-01 08:59:40 (50.3 MB/s) - ‘xlsr2_300m.pt’ saved [3808868242/3808868242]\n",
            "\n"
          ]
        }
      ]
    },
    {
      "cell_type": "code",
      "source": [
        "# updated in line 24 in model.py file ie :::  cp_path = /content/SSL_Anti-spoofing/xlsr2_300m.pt\n",
        "from model import Model"
      ],
      "metadata": {
        "id": "byrdAbSJYmVq"
      },
      "execution_count": 10,
      "outputs": []
    },
    {
      "cell_type": "code",
      "source": [
        "#define best finetuned model path for LA & DF & output file path for both\n",
        "args = {\n",
        "        'finetuned_la_model_path' : '/content/drive/MyDrive/best_finetuned_LA_model.pth',\n",
        "        'finetuned_df_model_path' : '/content/drive/MyDrive/best_finetuned_DF_model.pth' ,\n",
        "        'lr' :     0.000001,\n",
        "        'weight_decay' : 0.0001,\n",
        "        'la_eval_output' : '/content/finetuned_la_score_custom.txt',\n",
        "        'df_eval_output' : '/content/finetuned_df_score_custom.txt',\n",
        "        }\n",
        "\n",
        "#set device\n",
        "device = 'cuda' if torch.cuda.is_available() else 'cpu'"
      ],
      "metadata": {
        "id": "0sBABYr6YRlQ"
      },
      "execution_count": 11,
      "outputs": []
    },
    {
      "cell_type": "code",
      "source": [
        "def get_model(args, device, la_or_df):\n",
        "  model = Model(args,device)\n",
        "  nb_params = sum([param.view(-1).size()[0] for param in model.parameters()])\n",
        "  model =model.to(device)\n",
        "  if la_or_df.lower() == 'df':\n",
        "    model =nn.DataParallel(model).to(device)\n",
        "    model.load_state_dict(torch.load(args['finetuned_df_model_path'],map_location=device))\n",
        "    print('Model loaded : {}'.format(args['finetuned_df_model_path']))\n",
        "  else:\n",
        "    model.load_state_dict(torch.load(args['finetuned_la_model_path'],map_location=device))\n",
        "    print('Model loaded : {}'.format(args['finetuned_la_model_path']))\n",
        "  print('nb_params:',nb_params)\n",
        "  return model"
      ],
      "metadata": {
        "id": "ouzxtxGkuDxE"
      },
      "execution_count": 12,
      "outputs": []
    },
    {
      "cell_type": "markdown",
      "source": [
        "#### Inference (For both LA & DF) on custom dataset"
      ],
      "metadata": {
        "id": "Evij49M2qv5-"
      }
    },
    {
      "cell_type": "code",
      "source": [
        "def produce_evaluation_file(dataset,batch_size, model, device, save_path):\n",
        "  data_loader = DataLoader(dataset, batch_size=batch_size, shuffle=False, drop_last=False)\n",
        "  model.eval()\n",
        "\n",
        "  for batch_x,label in data_loader:\n",
        "    label_list = []\n",
        "    score_list = []\n",
        "    batch_size = batch_x.size(0)\n",
        "    batch_x = batch_x.to(device)\n",
        "    batch_out = model(batch_x)\n",
        "    batch_score = (batch_out[:, 1]).data.cpu().numpy().ravel()\n",
        "    # add outputs\n",
        "    label_list.extend(label)\n",
        "    score_list.extend(batch_score.tolist())\n",
        "    with open(save_path, 'a+') as fh:\n",
        "      for l, s in zip(label_list,score_list):\n",
        "        fh.write('{} {}\\n'.format(l, s))\n",
        "    fh.close()\n",
        "  print('Scores are saved to {}'.format(save_path))"
      ],
      "metadata": {
        "id": "sc10nX-Kssnb"
      },
      "execution_count": 13,
      "outputs": []
    },
    {
      "cell_type": "code",
      "source": [
        "batch_size = 4\n",
        "##inference using best finetuned LA model, & saving scores in txt files\n",
        "model = get_model(args, device, la_or_df='la')\n",
        "produce_evaluation_file(eval_set,batch_size, model, device, args['la_eval_output'])"
      ],
      "metadata": {
        "id": "3CVnxWo1Zqfa",
        "colab": {
          "base_uri": "https://localhost:8080/"
        },
        "outputId": "bbf34f40-9091-40fc-be8a-6f4e3f2a5056"
      },
      "execution_count": 14,
      "outputs": [
        {
          "output_type": "stream",
          "name": "stdout",
          "text": [
            "Model loaded : /content/drive/MyDrive/best_finetuned_LA_model.pth\n",
            "nb_params: 317837834\n",
            "Scores are saved to /content/finetuned_la_score_custom.txt\n"
          ]
        }
      ]
    },
    {
      "cell_type": "code",
      "source": [
        "batch_size = 16\n",
        "##inference using best fintuned  DF model, & saving scores in txt files\n",
        "model = get_model(args, device, la_or_df='df')\n",
        "produce_evaluation_file(eval_set,batch_size, model, device, args['df_eval_output'])"
      ],
      "metadata": {
        "colab": {
          "base_uri": "https://localhost:8080/"
        },
        "id": "0e5ErI_Ivu37",
        "outputId": "a49d5152-c565-4327-8add-c07ff4f5599c"
      },
      "execution_count": null,
      "outputs": [
        {
          "output_type": "stream",
          "name": "stdout",
          "text": [
            "Model loaded : /content/drive/MyDrive/best_finetuned_DF_model.pth\n",
            "nb_params: 317837834\n",
            "Scores are saved to /content/finetuned_df_score_custom.txt\n"
          ]
        }
      ]
    },
    {
      "cell_type": "markdown",
      "source": [
        "#### Evaluation Metrics (EER & AUC)\n"
      ],
      "metadata": {
        "id": "-pRiJMunzMFY"
      }
    },
    {
      "cell_type": "code",
      "source": [
        "#computing EER\n",
        "def compute_eer(truth, scores):\n",
        "  frr, far, th = det_curve(truth, scores)\n",
        "  abs_diffs = np.abs(frr - far)\n",
        "  min_index = np.argmin(abs_diffs)\n",
        "  eer = np.mean((frr[min_index], far[min_index]))\n",
        "  return eer"
      ],
      "metadata": {
        "id": "-7qwm-LK6G7b"
      },
      "execution_count": 15,
      "outputs": []
    },
    {
      "cell_type": "code",
      "source": [
        "##plotting ROC Curve with AUC score\n",
        "def plot_roc_curve_with_auc(truth, scores, la_or_df):\n",
        "  fpr, tpr, thresholds = roc_curve(truth,scores)\n",
        "  roc_auc = auc(fpr, tpr)\n",
        "  display = RocCurveDisplay(fpr=fpr, tpr=tpr, roc_auc=roc_auc,estimator_name='example estimator')\n",
        "  display.plot()\n",
        "  if la_or_df =='la':\n",
        "    plt.title(\"ROC curve with AUC score for finetuned LA model on custom dataset by M22AIE227\")\n",
        "  else:\n",
        "    plt.title(\"ROC curve with AUC score for finetunned DF model custom dataset by M22AIE227\")\n",
        "  plt.show()"
      ],
      "metadata": {
        "id": "VCcz3WzI7F49"
      },
      "execution_count": 16,
      "outputs": []
    },
    {
      "cell_type": "markdown",
      "source": [
        "##### LA Model Evaluation"
      ],
      "metadata": {
        "id": "1rbnXgfDwS6e"
      }
    },
    {
      "cell_type": "code",
      "source": [
        "la_df = pd.read_csv('/content/finetuned_la_score_custom.txt', sep = ' ', header = None)\n",
        "la_df.columns = ['truth', 'scores']"
      ],
      "metadata": {
        "id": "uSrp06XQzNp_"
      },
      "execution_count": 17,
      "outputs": []
    },
    {
      "cell_type": "code",
      "source": [
        "la_eer = compute_eer(la_df.truth, la_df.scores)\n",
        "print(\"EER (Equal Error Rate) for finetuned LA model custom dataset : \", round(la_eer, 4))"
      ],
      "metadata": {
        "id": "eGA5ZHCj7k1o",
        "colab": {
          "base_uri": "https://localhost:8080/"
        },
        "outputId": "daad7531-c276-4b6c-94e3-efc0ad65b8ef"
      },
      "execution_count": 18,
      "outputs": [
        {
          "output_type": "stream",
          "name": "stdout",
          "text": [
            "EER (Equal Error Rate) for finetuned LA model custom dataset :  0.2164\n"
          ]
        }
      ]
    },
    {
      "cell_type": "code",
      "source": [
        "#plotting roc cureve with auc for LA model\n",
        "plot_roc_curve_with_auc(la_df.truth, la_df.scores, 'la')"
      ],
      "metadata": {
        "colab": {
          "base_uri": "https://localhost:8080/",
          "height": 472
        },
        "id": "1yiM99YEyldL",
        "outputId": "47650fb5-56a9-4a57-8788-c2fc04035e7d"
      },
      "execution_count": 19,
      "outputs": [
        {
          "output_type": "display_data",
          "data": {
            "text/plain": [
              "<Figure size 640x480 with 1 Axes>"
            ],
            "image/png": "[encoded data removed]"
          },
          "metadata": {}
        }
      ]
    },
    {
      "cell_type": "markdown",
      "source": [
        "##### DF Model Evaluation"
      ],
      "metadata": {
        "id": "Dbdq-Lojy0VK"
      }
    },
    {
      "cell_type": "code",
      "source": [
        "df_df = pd.read_csv('/content/finetuned_df_score_custom.txt', sep = ' ', header = None)\n",
        "df_df.columns = ['truth', 'scores']"
      ],
      "metadata": {
        "id": "kfvbWYnJy0VK"
      },
      "execution_count": null,
      "outputs": []
    },
    {
      "cell_type": "code",
      "source": [
        "df_eer = compute_eer(df_df.truth, df_df.scores)\n",
        "print(\"EER (Equal Error Rate) for fintuned DF model custom dataset : \", round(df_eer, 4))"
      ],
      "metadata": {
        "colab": {
          "base_uri": "https://localhost:8080/"
        },
        "id": "3o1NmsbHy0VL",
        "outputId": "ad68d7aa-e5d4-4185-ef26-731312c7a5ac"
      },
      "execution_count": null,
      "outputs": [
        {
          "output_type": "stream",
          "name": "stdout",
          "text": [
            "EER (Equal Error Rate) for fintuned DF model custom dataset :  0.318\n"
          ]
        }
      ]
    },
    {
      "cell_type": "code",
      "source": [
        "#plotting roc cureve with auc for LA model\n",
        "plot_roc_curve_with_auc(df_df.truth, df_df.scores, 'df')"
      ],
      "metadata": {
        "colab": {
          "base_uri": "https://localhost:8080/",
          "height": 472
        },
        "id": "Gkh2aCQJy0VL",
        "outputId": "f2f44821-eb66-4142-8edc-a2c84b12bd74"
      },
      "execution_count": null,
      "outputs": [
        {
          "output_type": "display_data",
          "data": {
            "text/plain": [
              "<Figure size 640x480 with 1 Axes>"
            ],
            "image/png": "[encoded data removed]"
          },
          "metadata": {}
        }
      ]
    },
    {
      "cell_type": "code",
      "source": [],
      "metadata": {
        "id": "WfzxRlMwcRc7"
      },
      "execution_count": null,
      "outputs": []
    }
  ]
}